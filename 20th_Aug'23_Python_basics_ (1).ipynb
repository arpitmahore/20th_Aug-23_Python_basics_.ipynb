{
  "nbformat": 4,
  "nbformat_minor": 0,
  "metadata": {
    "colab": {
      "provenance": [],
      "authorship_tag": "ABX9TyPlHCmqGw5grYAk2n/NzSZk",
      "include_colab_link": true
    },
    "kernelspec": {
      "name": "python3",
      "display_name": "Python 3"
    },
    "language_info": {
      "name": "python"
    }
  },
  "cells": [
    {
      "cell_type": "markdown",
      "metadata": {
        "id": "view-in-github",
        "colab_type": "text"
      },
      "source": [
        "<a href=\"https://colab.research.google.com/github/PratapRK77/python_basic_progam/blob/main/20th_Aug'23_Python_basics_.ipynb\" target=\"_parent\"><img src=\"https://colab.research.google.com/assets/colab-badge.svg\" alt=\"Open In Colab\"/></a>"
      ]
    },
    {
      "cell_type": "markdown",
      "source": [
        "1. Write a program to reverse a string."
      ],
      "metadata": {
        "id": "jmZC0ukWcp-U"
      }
    },
    {
      "cell_type": "code",
      "source": [
        "str=\"hello\"\n",
        "\n",
        "rev=str[::-1] #reverse the string using Indexing\n",
        "print(\"After reverse string: \",rev)"
      ],
      "metadata": {
        "colab": {
          "base_uri": "https://localhost:8080/"
        },
        "id": "asLdIHDfcsOi",
        "outputId": "1dfc1059-6487-4409-a5c4-be4c83b3774b"
      },
      "execution_count": null,
      "outputs": [
        {
          "output_type": "stream",
          "name": "stdout",
          "text": [
            "After reverse string:  olleh\n"
          ]
        }
      ]
    },
    {
      "cell_type": "markdown",
      "source": [
        "2. Check if a string is a palindrome."
      ],
      "metadata": {
        "id": "sPshDPVbcp9T"
      }
    },
    {
      "cell_type": "code",
      "source": [
        "str= \"sts\"\n",
        "\n",
        "rev=str[::-1] # firstly reverse the string using indexing\n",
        "\n",
        "if(rev==str): # then take if statement and check \"after reverse string and before reverse string are seme or not.\n",
        "  print(\"string is paalindrome\")\n",
        "else:\n",
        "  print(\"string is not palindrome\")"
      ],
      "metadata": {
        "colab": {
          "base_uri": "https://localhost:8080/"
        },
        "id": "N8KjWR_BcZtV",
        "outputId": "2546d68e-6db1-4383-f2bc-61c00a3fd79c"
      },
      "execution_count": null,
      "outputs": [
        {
          "output_type": "stream",
          "name": "stdout",
          "text": [
            "string is paalindrome\n"
          ]
        }
      ]
    },
    {
      "cell_type": "markdown",
      "source": [
        "3. Convert a string to uppercase."
      ],
      "metadata": {
        "id": "VX43CsN1Sizk"
      }
    },
    {
      "cell_type": "code",
      "execution_count": null,
      "metadata": {
        "id": "TnoK733yNYOM",
        "colab": {
          "base_uri": "https://localhost:8080/"
        },
        "outputId": "1fc9a501-b276-45d1-b0ff-d134c552c088"
      },
      "outputs": [
        {
          "output_type": "stream",
          "name": "stdout",
          "text": [
            "uppercase : HELLO\n"
          ]
        }
      ],
      "source": [
        "str=\"hello\"\n",
        "\n",
        "upp=str.upper() #string convert uppercase to lowercase using \"upper()\" function.\n",
        "print(\"uppercase :\",upp)"
      ]
    },
    {
      "cell_type": "markdown",
      "source": [
        "4. Convert a string to lowercase."
      ],
      "metadata": {
        "id": "_IfMuAvAStZ5"
      }
    },
    {
      "cell_type": "code",
      "source": [
        "str=\"HELLO\"\n",
        "\n",
        "low=str.lower() #string convert uppercase to lowercase using \"lower()\" function.\n",
        "\n",
        "print(\"Lowercase :\",low)"
      ],
      "metadata": {
        "id": "3BSYPIh4R1nf",
        "colab": {
          "base_uri": "https://localhost:8080/"
        },
        "outputId": "15ba6083-22ec-4afd-f27b-3d7592ba91b7"
      },
      "execution_count": null,
      "outputs": [
        {
          "output_type": "stream",
          "name": "stdout",
          "text": [
            "Lowercase : hello\n"
          ]
        }
      ]
    },
    {
      "cell_type": "markdown",
      "source": [
        "5. Count the number of vowels in a string."
      ],
      "metadata": {
        "id": "goYrnvfzTNqI"
      }
    },
    {
      "cell_type": "code",
      "source": [
        "str=\" Hare Krishna \"\n",
        "\n",
        "count=0\n",
        "vowels=[\"a\",\"e\",\"i\",\"o\",\"u\",\"A\",\"E\",\"I\",\"O\",\"U\"]\n",
        "\n",
        "for i in str:\n",
        "  if i in vowels:\n",
        "    count +=1\n",
        "print(\"Vowels in string :\",count)"
      ],
      "metadata": {
        "colab": {
          "base_uri": "https://localhost:8080/"
        },
        "id": "9CUarAkgb1Uf",
        "outputId": "fb9e5eaf-089f-4165-afc2-0ec65218debe"
      },
      "execution_count": null,
      "outputs": [
        {
          "output_type": "stream",
          "name": "stdout",
          "text": [
            "Vowels in string : 4\n"
          ]
        }
      ]
    },
    {
      "cell_type": "markdown",
      "source": [
        "6. Count the number of consonants in a string."
      ],
      "metadata": {
        "id": "hJ4Ss-eeb6jY"
      }
    },
    {
      "cell_type": "code",
      "source": [
        "str=\" Hare Krishna \"\n",
        "\n",
        "count=0\n",
        "csonsonant=\"bcdfghjklmnpqrstvwxyzBCDFGHJKLMNPQRSTVWXYZ\"\n",
        "\n",
        "for i in str:\n",
        "  if i in csonsonant:\n",
        "    count +=1\n",
        "print(\"Vowels in string :\",count)"
      ],
      "metadata": {
        "colab": {
          "base_uri": "https://localhost:8080/"
        },
        "id": "h-AUJx8NcBwq",
        "outputId": "89928fb3-5796-4e7b-9782-02742212549c"
      },
      "execution_count": null,
      "outputs": [
        {
          "output_type": "stream",
          "name": "stdout",
          "text": [
            "Vowels in string : 7\n"
          ]
        }
      ]
    },
    {
      "cell_type": "markdown",
      "source": [
        "7. Remove all whitespaces from a string."
      ],
      "metadata": {
        "id": "HKHncfH8e9JV"
      }
    },
    {
      "cell_type": "code",
      "source": [
        "str=\" hello h i i \"\n",
        "\n",
        "remo= str.replace(\" \",\"\") #remove whitespaces using \"replace()\" function.\n",
        "\n",
        "print(\"Remove whitespaces in string\",remo)"
      ],
      "metadata": {
        "colab": {
          "base_uri": "https://localhost:8080/"
        },
        "id": "nFRxTRpHe-h1",
        "outputId": "ad79eeef-9dc0-4746-c358-9ae3f95535ae"
      },
      "execution_count": null,
      "outputs": [
        {
          "output_type": "stream",
          "name": "stdout",
          "text": [
            "hellohii\n"
          ]
        }
      ]
    },
    {
      "cell_type": "markdown",
      "source": [
        "8. Find the length of a string without using the `len()` function."
      ],
      "metadata": {
        "id": "5ySbxkeoiKOB"
      }
    },
    {
      "cell_type": "code",
      "source": [
        "str=\"hello\"\n",
        "\n",
        "a=0\n",
        "\n",
        "for i in str:\n",
        "  a=a+1\n",
        "print(a)\n"
      ],
      "metadata": {
        "colab": {
          "base_uri": "https://localhost:8080/"
        },
        "id": "B6cFfugOiQ9D",
        "outputId": "c048922a-a937-4949-b60f-8df35fba50ae"
      },
      "execution_count": null,
      "outputs": [
        {
          "output_type": "stream",
          "name": "stdout",
          "text": [
            "5\n"
          ]
        }
      ]
    },
    {
      "cell_type": "markdown",
      "source": [
        "9. Check if a string contains a specific word."
      ],
      "metadata": {
        "id": "nys7esQ_mR2g"
      }
    },
    {
      "cell_type": "code",
      "source": [
        "str=input(\"Enter string :\")\n",
        "\n",
        "word=input(\"Enter word :\")\n",
        "\n",
        "if(word in str):\n",
        "  print(\"Word is in string\")\n",
        "else:\n",
        "  print(\"word is not in string\")\n"
      ],
      "metadata": {
        "colab": {
          "base_uri": "https://localhost:8080/"
        },
        "id": "DTji16oSmcyC",
        "outputId": "2195daec-7a32-4554-cf2b-e5a9dcc762cf"
      },
      "execution_count": null,
      "outputs": [
        {
          "output_type": "stream",
          "name": "stdout",
          "text": [
            "Enter string :Hare krishna\n",
            "Enter word :Radhe\n",
            "word is not in string\n"
          ]
        }
      ]
    },
    {
      "cell_type": "markdown",
      "source": [
        "10. Replace a word in a string with another word."
      ],
      "metadata": {
        "id": "C26UZ3hCn2hs"
      }
    },
    {
      "cell_type": "code",
      "source": [
        "str=\"hello,my self pratap kharabe\"\n",
        "\n",
        "repl=str.replace(\"pratap\",\"Krushna\")\n",
        "\n",
        "print(\"After replace word in string :\",repl)\n",
        "\n"
      ],
      "metadata": {
        "colab": {
          "base_uri": "https://localhost:8080/"
        },
        "id": "SLqvgd89n8TB",
        "outputId": "f1f84c29-b599-4e92-c526-8f35d493b5d2"
      },
      "execution_count": null,
      "outputs": [
        {
          "output_type": "stream",
          "name": "stdout",
          "text": [
            "After replace word in string : hello,my self Krushna kharabe\n"
          ]
        }
      ]
    },
    {
      "cell_type": "markdown",
      "source": [
        "11. Count the occurrences of a word in a string."
      ],
      "metadata": {
        "id": "BBmzfMLFs8Wj"
      }
    },
    {
      "cell_type": "code",
      "source": [
        "str=\"hello, How are you ?\"\n",
        "\n",
        "occword=input(\"Enter word/letter :\")\n",
        "occ=str.count(occword)\n",
        "\n",
        "print(\"this word occured in string\",occ)"
      ],
      "metadata": {
        "colab": {
          "base_uri": "https://localhost:8080/"
        },
        "id": "vOqXOmNWuFlm",
        "outputId": "fc7a89b3-fb38-4dce-a977-03071ffeec7a"
      },
      "execution_count": null,
      "outputs": [
        {
          "output_type": "stream",
          "name": "stdout",
          "text": [
            "Enter word/letter :o\n",
            "this word occured in string 3\n"
          ]
        }
      ]
    },
    {
      "cell_type": "markdown",
      "source": [
        "12. Find the first occurrence of a word in a string."
      ],
      "metadata": {
        "id": "iH8XgtXXyGBd"
      }
    },
    {
      "cell_type": "code",
      "source": [
        "str=\"Hello , my self pratap\"\n",
        "\n",
        "fir=str.find(\"e\")\n",
        "print(\"word first occered in index :\",fir)"
      ],
      "metadata": {
        "colab": {
          "base_uri": "https://localhost:8080/"
        },
        "id": "O7BKQzq5yJ6q",
        "outputId": "59e47ba7-9520-4c40-abe3-683f433cbb5d"
      },
      "execution_count": null,
      "outputs": [
        {
          "output_type": "stream",
          "name": "stdout",
          "text": [
            "word first occered in index : 1\n"
          ]
        }
      ]
    },
    {
      "cell_type": "markdown",
      "source": [
        "13. Find the last occurrence of a word in a string."
      ],
      "metadata": {
        "id": "fQJTHkKU1CfJ"
      }
    },
    {
      "cell_type": "code",
      "source": [
        "str=\"Hello , my self pratap\"\n",
        "\n",
        "fir=str.rfind(\"e\")\n",
        "print(\"word first occered in index :\",fir)"
      ],
      "metadata": {
        "colab": {
          "base_uri": "https://localhost:8080/"
        },
        "outputId": "096915ca-4ae8-43f4-9689-629714ff2495",
        "id": "G0Uf9M5p1DJa"
      },
      "execution_count": null,
      "outputs": [
        {
          "output_type": "stream",
          "name": "stdout",
          "text": [
            "word first occered in index : 12\n"
          ]
        }
      ]
    },
    {
      "cell_type": "markdown",
      "source": [
        "14. Split a string into a list of words."
      ],
      "metadata": {
        "id": "39FEazL71bJD"
      }
    },
    {
      "cell_type": "code",
      "source": [
        "str=\"Hello , my self pratap\"\n",
        "\n",
        "spli=str.split()\n",
        "print(\"After split string into words :\",spli)\n"
      ],
      "metadata": {
        "colab": {
          "base_uri": "https://localhost:8080/"
        },
        "id": "431nBbqQ1gfA",
        "outputId": "8fb80334-e8cc-42e0-e47d-4b44c84c3d73"
      },
      "execution_count": null,
      "outputs": [
        {
          "output_type": "stream",
          "name": "stdout",
          "text": [
            "After split string into words : ['Hello', ',', 'my', 'self', 'pratap']\n"
          ]
        }
      ]
    },
    {
      "cell_type": "markdown",
      "source": [
        "15. Join a list of words into a string."
      ],
      "metadata": {
        "id": "IyliWw5v2rkK"
      }
    },
    {
      "cell_type": "code",
      "source": [
        "list=['Hello', ',', 'my', 'self', 'pratap']\n",
        "\n",
        "joi=\" \".join(list)\n",
        "print(\"After join the words in string :\",joi)\n"
      ],
      "metadata": {
        "colab": {
          "base_uri": "https://localhost:8080/"
        },
        "id": "ZaZZcTzq2ub2",
        "outputId": "b0ea73ea-ac05-4dac-8548-536f2287d7a5"
      },
      "execution_count": null,
      "outputs": [
        {
          "output_type": "stream",
          "name": "stdout",
          "text": [
            "After join the words in string : Hello , my self pratap\n"
          ]
        }
      ]
    },
    {
      "cell_type": "markdown",
      "source": [
        "16. Convert a string where words are separated by spaces to one where words\n",
        "are separated by underscores."
      ],
      "metadata": {
        "id": "ItmfCqna3rKT"
      }
    },
    {
      "cell_type": "code",
      "source": [
        "str= \"my name is pratap Kharabe\"\n",
        "\n",
        "conv= str.replace(\" \",\"_\")\n",
        "\n",
        "print(\"convert the words seprated by spaces to underscores : \",conv)"
      ],
      "metadata": {
        "id": "M0UFiq8t3zr5",
        "colab": {
          "base_uri": "https://localhost:8080/"
        },
        "outputId": "f3c3f23f-dac3-4047-986a-03b17d00473a"
      },
      "execution_count": null,
      "outputs": [
        {
          "output_type": "stream",
          "name": "stdout",
          "text": [
            "convert the words seprated by spaces to underscores :  my_name_is_pratap_Kharabe\n"
          ]
        }
      ]
    },
    {
      "cell_type": "markdown",
      "source": [
        "17. Check if a string starts with a specific word or phrase."
      ],
      "metadata": {
        "id": "CfNHffE5L7Zf"
      }
    },
    {
      "cell_type": "code",
      "source": [
        "Str =input(\"Enter the string :\")\n",
        "\n",
        "word=input(\"Enter Word :\")\n",
        "\n",
        "Str.startswith(word)"
      ],
      "metadata": {
        "colab": {
          "base_uri": "https://localhost:8080/"
        },
        "id": "EaXRJqmPL8ow",
        "outputId": "119c9c32-202e-4d41-b880-14cdafb4d26c"
      },
      "execution_count": null,
      "outputs": [
        {
          "name": "stdout",
          "output_type": "stream",
          "text": [
            "Enter the string :my name is pratap\n",
            "Enter Word :my\n"
          ]
        },
        {
          "output_type": "execute_result",
          "data": {
            "text/plain": [
              "True"
            ]
          },
          "metadata": {},
          "execution_count": 4
        }
      ]
    },
    {
      "cell_type": "markdown",
      "source": [
        "18. Check if a string ends with a specific word or phrase."
      ],
      "metadata": {
        "id": "tP4q5B8xP8Et"
      }
    },
    {
      "cell_type": "code",
      "source": [
        "str =input(\"Enter the string :\")\n",
        "\n",
        "word=input(\"Enter Word :\")\n",
        "\n",
        "str.endswith(word)"
      ],
      "metadata": {
        "colab": {
          "base_uri": "https://localhost:8080/"
        },
        "id": "iA_1VJuoQKpC",
        "outputId": "bfd3a1e5-ce0d-4a7b-ad8a-bdb573cc1406"
      },
      "execution_count": null,
      "outputs": [
        {
          "name": "stdout",
          "output_type": "stream",
          "text": [
            "Enter the string :string\n",
            "Enter Word :g\n"
          ]
        },
        {
          "output_type": "execute_result",
          "data": {
            "text/plain": [
              "True"
            ]
          },
          "metadata": {},
          "execution_count": 5
        }
      ]
    },
    {
      "cell_type": "markdown",
      "source": [
        "19. Convert a string to title case (e.g., \"hello world\" to \"Hello World\")."
      ],
      "metadata": {
        "id": "EVyD6VhGRURu"
      }
    },
    {
      "cell_type": "code",
      "source": [
        "str =input(\"Enter the string :\")\n",
        "\n",
        "tit= str.title()\n",
        "\n",
        "print(\"String end :\",tit)"
      ],
      "metadata": {
        "colab": {
          "base_uri": "https://localhost:8080/"
        },
        "id": "_uwLuUULRZg8",
        "outputId": "6ac70cbc-8db9-4c30-c7a9-b3607822e423"
      },
      "execution_count": null,
      "outputs": [
        {
          "output_type": "stream",
          "name": "stdout",
          "text": [
            "Enter the string :hello hii\n",
            "String end : Hello Hii\n"
          ]
        }
      ]
    },
    {
      "cell_type": "markdown",
      "source": [
        "20. Find the longest word in a string."
      ],
      "metadata": {
        "id": "1V4Ar48rV6mO"
      }
    },
    {
      "cell_type": "code",
      "source": [
        "str=\"find the longest word in string\"\n",
        "\n",
        "words = str.split()\n",
        "\n",
        "count=0\n",
        "long_word=\"\"\n",
        "\n",
        "for i in words:\n",
        "\n",
        "  if len(i) > count:\n",
        "\n",
        "    count = len(i)\n",
        "    long_word=i\n",
        "\n",
        "print(\"Longest word in string :\",long_word)"
      ],
      "metadata": {
        "id": "IqQwk8TQWDgn",
        "colab": {
          "base_uri": "https://localhost:8080/"
        },
        "outputId": "ef92176b-84bf-42c8-ea3a-9be88ce9ec7e"
      },
      "execution_count": null,
      "outputs": [
        {
          "output_type": "stream",
          "name": "stdout",
          "text": [
            "Longest word in string : longest\n"
          ]
        }
      ]
    },
    {
      "cell_type": "markdown",
      "source": [
        "21. Find the shortest word in a string."
      ],
      "metadata": {
        "id": "WRorPdEwkWFe"
      }
    },
    {
      "cell_type": "code",
      "source": [
        "str=\"find the longest word in string\"\n",
        "\n",
        "words = str.split()\n",
        "\n",
        "count= float(\"inf\")\n",
        "short_word=None\n",
        "\n",
        "for i in words:\n",
        "\n",
        "  if len(i) < count:\n",
        "\n",
        "    count = len(i)\n",
        "    short_word=i\n",
        "\n",
        "print(\"Longest word in string :\",short_word)"
      ],
      "metadata": {
        "id": "2GbTzryukXnl",
        "colab": {
          "base_uri": "https://localhost:8080/"
        },
        "outputId": "2187e4b7-0dc3-4072-a757-d94f5c022477"
      },
      "execution_count": null,
      "outputs": [
        {
          "output_type": "stream",
          "name": "stdout",
          "text": [
            "Longest word in string : in\n"
          ]
        }
      ]
    },
    {
      "cell_type": "markdown",
      "source": [
        "22. Reverse the order of words in a string."
      ],
      "metadata": {
        "id": "FXRFHpI6m0d9"
      }
    },
    {
      "cell_type": "code",
      "source": [
        "str=\"my name is pratap Patil\"\n",
        "\n",
        "sp=str.split() # first i have split the string using split function.\n",
        "rev=sp[::-1] # Then reverse the splited string.\n",
        "print(\"After reverse the string: \",rev)"
      ],
      "metadata": {
        "colab": {
          "base_uri": "https://localhost:8080/"
        },
        "id": "dkeB5BJdm1xp",
        "outputId": "2d66ae8a-6ebb-42d2-f3bf-3833b74bf041"
      },
      "execution_count": null,
      "outputs": [
        {
          "output_type": "stream",
          "name": "stdout",
          "text": [
            "After reverse the string:  ['Patil', 'pratap', 'is', 'name', 'my']\n"
          ]
        }
      ]
    },
    {
      "cell_type": "markdown",
      "source": [
        "23. Check if a string is alphanumeric.\n"
      ],
      "metadata": {
        "id": "Yd0oBbiVm0ch"
      }
    },
    {
      "cell_type": "code",
      "source": [
        "str= \"pratap [9,3,4,](2+4)?.\"\n",
        "\n",
        "che=str.isalnum() # Check the string is alphanumeric or not using \"isalnum\" function.\n",
        "\n",
        "print(che)"
      ],
      "metadata": {
        "colab": {
          "base_uri": "https://localhost:8080/"
        },
        "id": "av22toCQp2Nh",
        "outputId": "50a17050-7494-45b7-feb2-69c602831dc8"
      },
      "execution_count": null,
      "outputs": [
        {
          "output_type": "stream",
          "name": "stdout",
          "text": [
            "False\n"
          ]
        }
      ]
    },
    {
      "cell_type": "markdown",
      "source": [
        "24. Extract all digits from a string.\n"
      ],
      "metadata": {
        "id": "ywFvQ6SIrz80"
      }
    },
    {
      "cell_type": "code",
      "source": [
        "str=\"pratap 77 06 09\"\n",
        "\n",
        "dig=\"\"\n",
        "\n",
        "for i in str:  # Take loop to check the each string is digit or not.\n",
        "\n",
        "  if i.isdigit():\n",
        "    dig += i\n",
        "print(\"Extract the digit from the string: \",dig)"
      ],
      "metadata": {
        "colab": {
          "base_uri": "https://localhost:8080/"
        },
        "id": "9k_mM7r8r56W",
        "outputId": "f11f5ca8-5493-4c79-88d7-eef2fcd85040"
      },
      "execution_count": null,
      "outputs": [
        {
          "output_type": "stream",
          "name": "stdout",
          "text": [
            "Extract the digit from the string:  770609\n"
          ]
        }
      ]
    },
    {
      "cell_type": "markdown",
      "source": [
        "25. Extract all alphabets from a string."
      ],
      "metadata": {
        "id": "VskQnsr14wyU"
      }
    },
    {
      "cell_type": "code",
      "source": [
        "str=\"pta7tap480khar4ab8e7\"\n",
        "\n",
        "alph=\"\"\n",
        "for i in str: # Take loop to check the each string is alpha or not.\n",
        "\n",
        "  if i.isalpha(): # then take if condistion to  check each letter is alpha using \"isalpha\"  function , so print otherwise check next .\n",
        "    alph += i\n",
        "print(\"Extract all alphabets from string: \",i)\n"
      ],
      "metadata": {
        "colab": {
          "base_uri": "https://localhost:8080/"
        },
        "id": "2JKBNkap42Tg",
        "outputId": "934be476-f9b0-4a55-d44f-fba1261dbfeb"
      },
      "execution_count": null,
      "outputs": [
        {
          "output_type": "stream",
          "name": "stdout",
          "text": [
            "ptatapkharabe"
          ]
        }
      ]
    },
    {
      "cell_type": "markdown",
      "source": [
        "26. Count the number of uppercase letters in a string.\n"
      ],
      "metadata": {
        "id": "lMSKHR4B4wvb"
      }
    },
    {
      "cell_type": "code",
      "source": [
        "str=\"PrATapKhaRaBE\"\n",
        "\n",
        "count=0\n",
        "\n",
        "for i in str:  # Take loop to check the each lrtter in  string.\n",
        "\n",
        "  if i.isupper(): #then take if condition to check each letter is uppercase using \"isupper()\" function.\n",
        "    count +=1\n",
        "\n",
        "print(\"Number of uppercase letters in string is :\",count)"
      ],
      "metadata": {
        "colab": {
          "base_uri": "https://localhost:8080/"
        },
        "id": "6LyOBPCD9LgP",
        "outputId": "c91224da-f467-474c-af63-f703b3f1dfa3"
      },
      "execution_count": null,
      "outputs": [
        {
          "output_type": "stream",
          "name": "stdout",
          "text": [
            "Number of uppercase letters in string is : 7\n"
          ]
        }
      ]
    },
    {
      "cell_type": "markdown",
      "source": [
        "27. Count the number of lowercase letters in a string.\n"
      ],
      "metadata": {
        "id": "-pfiw95oCfJg"
      }
    },
    {
      "cell_type": "code",
      "source": [
        "str=\"PrATapKhaRaBE\"\n",
        "\n",
        "count=0\n",
        "\n",
        "for i in str: # Take loop to check the each lrtter in  string.\n",
        "\n",
        "  if i.islower(): #then take if condition to check each letter is uppercase using \"isupper()\" function.\n",
        "    count +=1\n",
        "\n",
        "print(\"Number of lowercase letters in string is :\",count)\n"
      ],
      "metadata": {
        "colab": {
          "base_uri": "https://localhost:8080/"
        },
        "id": "rUcOHfm7Cjxl",
        "outputId": "dce3c782-126f-47a2-ad3d-976f6db6f147"
      },
      "execution_count": null,
      "outputs": [
        {
          "output_type": "stream",
          "name": "stdout",
          "text": [
            "Number of uppercase letters in string is : 6\n"
          ]
        }
      ]
    },
    {
      "cell_type": "markdown",
      "source": [
        "\n",
        "28. Swap the case of each character in a string.\n"
      ],
      "metadata": {
        "id": "Gc5FW9xNDDG_"
      }
    },
    {
      "cell_type": "code",
      "source": [
        "str= \"my NAME iS pRATAP \"\n",
        "\n",
        "print(\"After swap the string :\",str.swapcase()) # swap the each lettre using  \"swapcase()\" function."
      ],
      "metadata": {
        "colab": {
          "base_uri": "https://localhost:8080/"
        },
        "id": "_6gXOmtKDOtR",
        "outputId": "debd3b4c-189e-46f8-f6b8-d85092f25c35"
      },
      "execution_count": null,
      "outputs": [
        {
          "output_type": "stream",
          "name": "stdout",
          "text": [
            "MY name Is Pratap \n"
          ]
        }
      ]
    },
    {
      "cell_type": "markdown",
      "source": [
        "29. Remove a specific word from a string.\n"
      ],
      "metadata": {
        "id": "pc-Pe_PLF4rT"
      }
    },
    {
      "cell_type": "code",
      "source": [
        "str=\"my name is pratap Kharabe \"\n",
        "\n",
        "str.replace(\"Kharabe\",'') # removing the specific word using replace function."
      ],
      "metadata": {
        "colab": {
          "base_uri": "https://localhost:8080/",
          "height": 36
        },
        "id": "kmvmj17FF_f-",
        "outputId": "f6a6af8b-75d0-4717-a90d-e969df1f68ca"
      },
      "execution_count": null,
      "outputs": [
        {
          "output_type": "execute_result",
          "data": {
            "text/plain": [
              "'my name is pratap  '"
            ],
            "application/vnd.google.colaboratory.intrinsic+json": {
              "type": "string"
            }
          },
          "metadata": {},
          "execution_count": 50
        }
      ]
    },
    {
      "cell_type": "markdown",
      "source": [
        "30. Check if a string is a valid email address."
      ],
      "metadata": {
        "id": "YpVFLocHH3AZ"
      }
    },
    {
      "cell_type": "code",
      "source": [
        "import re  #import the regular expression mudule library.\n",
        "\n",
        "email=input(\"Enterr valid email: \") # Take input email from user.\n",
        "\n",
        "inemail= r'^[\\w\\.-]+@[\\w\\.-]+\\.\\w+$' # regular repression pattern for basic email validation.\n",
        "if re.match(inemail,email):\n",
        "  print(\"Email is valid\")\n",
        "else:\n",
        "  print(\"Email is invalid\")\n",
        "\n"
      ],
      "metadata": {
        "colab": {
          "base_uri": "https://localhost:8080/"
        },
        "id": "1DNsZgKn2vW9",
        "outputId": "7fd438fb-3a9a-423e-ea12-b6334a91964d"
      },
      "execution_count": null,
      "outputs": [
        {
          "output_type": "stream",
          "name": "stdout",
          "text": [
            "Enterr valid email: pratappatil@gmail.com\n",
            "Email is valid\n"
          ]
        }
      ]
    },
    {
      "cell_type": "markdown",
      "source": [
        "31. Extract the username from an email address string."
      ],
      "metadata": {
        "id": "NLQLb7DGdAx2"
      }
    },
    {
      "cell_type": "code",
      "source": [
        "email=input(\"Enter email: \") # Take input email form the user\n",
        "\n",
        "username= email.split(\"@\")[0] # the split the email in two parts \"@\" and take first part using \"[0]\" index.\n",
        "print(\"username is :\", username)"
      ],
      "metadata": {
        "id": "4NMXJOdRdGMp",
        "colab": {
          "base_uri": "https://localhost:8080/"
        },
        "outputId": "192b2fef-bbd9-4530-a0d4-ae0509025334"
      },
      "execution_count": null,
      "outputs": [
        {
          "output_type": "stream",
          "name": "stdout",
          "text": [
            "Enter email: PratapPatil@gamil.com\n",
            "username is : PratapPatil\n"
          ]
        }
      ]
    },
    {
      "cell_type": "markdown",
      "source": [
        "32. Extract the domain name from an email address string.\n"
      ],
      "metadata": {
        "id": "EQj1_-5hdV3c"
      }
    },
    {
      "cell_type": "code",
      "source": [
        "email=input(\"Enter email :\") # Take input email from the user.\n",
        "\n",
        "domain=email.split(\"@\")[-1] # then split the email at \"@\" and take last part of email using \"[-1]\" index.\n",
        "print(\"domain of mail: \",domain)"
      ],
      "metadata": {
        "colab": {
          "base_uri": "https://localhost:8080/"
        },
        "id": "MPkNZKR-7KN2",
        "outputId": "55720a52-e9f5-492f-aef9-6e123ff17260"
      },
      "execution_count": null,
      "outputs": [
        {
          "output_type": "stream",
          "name": "stdout",
          "text": [
            "Enter email :pratappatil@gmail.com\n",
            "domain of mail:  gmail.com\n"
          ]
        }
      ]
    },
    {
      "cell_type": "markdown",
      "source": [
        "33. Replace multiple spaces in a string with a single space."
      ],
      "metadata": {
        "id": "TEbLD5AU8kaK"
      }
    },
    {
      "cell_type": "code",
      "source": [
        "str=\"hello, my     name     is      pratap\"\n",
        "\n",
        "spli= str.split() # split the string\n",
        "\n",
        "joi=\" \".join(spli) # And join winh \"single space(\" \")\"\n",
        "print(joi)\n",
        "\n"
      ],
      "metadata": {
        "colab": {
          "base_uri": "https://localhost:8080/"
        },
        "id": "YPiv_1UL8sIz",
        "outputId": "0e3b0b84-29c9-414b-f413-acc0c6811785"
      },
      "execution_count": null,
      "outputs": [
        {
          "output_type": "stream",
          "name": "stdout",
          "text": [
            "hello, my name is pratap\n"
          ]
        }
      ]
    },
    {
      "cell_type": "markdown",
      "source": [
        "34. Check if a string is a valid URL."
      ],
      "metadata": {
        "id": "ldnqy1HD-Oe-"
      }
    },
    {
      "cell_type": "markdown",
      "source": [
        "35. Extract the protocol (http or https) from a URL string."
      ],
      "metadata": {
        "id": "qgbXhWw2AlC7"
      }
    },
    {
      "cell_type": "code",
      "source": [
        "url = input(\"Enter vaild url :\") # Take input url from the user.\n",
        "\n",
        "split = url.split(\"//\")[0] # Then split the url at \"//\" and take first part of url using [0] index.\n",
        "\n",
        "print(\"This url protocol is :\",split)"
      ],
      "metadata": {
        "colab": {
          "base_uri": "https://localhost:8080/"
        },
        "id": "Uc9J3WQnAxd4",
        "outputId": "eb932d85-cc85-4b0e-ca7c-f24b04643f96"
      },
      "execution_count": null,
      "outputs": [
        {
          "output_type": "stream",
          "name": "stdout",
          "text": [
            "Enter vaild urlhttps://www.welcoome.com\n",
            "https:\n"
          ]
        }
      ]
    },
    {
      "cell_type": "markdown",
      "source": [
        "36. Find the frequency of each character in a string."
      ],
      "metadata": {
        "id": "NPa4Ac4tDKjv"
      }
    },
    {
      "cell_type": "code",
      "source": [
        "str=input(\"Enter string: \") #take input from the usre.\n",
        "\n",
        "frequency={}\n",
        "\n",
        "for char in str: # Take forloop to check each letter.\n",
        "\n",
        "  if char in frequency:\n",
        "    frequency[char] += 1 # condition is same letter is present in string so frequency +1.\n",
        "    print(f\"character: '{char}', Frequency: '{frequency[char]}'\")\n",
        "  else:\n",
        "    frequency[char] = 1\n",
        "    print(f\"character: '{char}', Frequency: '{frequency[char]}'\")"
      ],
      "metadata": {
        "colab": {
          "base_uri": "https://localhost:8080/"
        },
        "id": "kpxC6whDDQlT",
        "outputId": "1cddcd8c-e8b3-4054-96fe-8d60f2b7d82f"
      },
      "execution_count": null,
      "outputs": [
        {
          "output_type": "stream",
          "name": "stdout",
          "text": [
            "Enter string: Pratap patil\n",
            "character: 'P', Frequency: '1'\n",
            "character: 'r', Frequency: '1'\n",
            "character: 'a', Frequency: '1'\n",
            "character: 't', Frequency: '1'\n",
            "character: 'a', Frequency: '2'\n",
            "character: 'p', Frequency: '1'\n",
            "character: ' ', Frequency: '1'\n",
            "character: 'p', Frequency: '2'\n",
            "character: 'a', Frequency: '3'\n",
            "character: 't', Frequency: '2'\n",
            "character: 'i', Frequency: '1'\n",
            "character: 'l', Frequency: '1'\n"
          ]
        }
      ]
    },
    {
      "cell_type": "markdown",
      "source": [
        "37. Remove all punctuation from a string."
      ],
      "metadata": {
        "id": "d8Us1xaUKSxT"
      }
    },
    {
      "cell_type": "code",
      "source": [
        "import string # import string library.\n",
        "\n",
        "st=input(\"Enter string : \") #take input from the usre.\n",
        "\n",
        "translator= str.maketrans(\"\",\"\",string.punctuation) #create a translation table to remove punctuation.\n",
        "\n",
        "without_punctuation= st.translate(translator) # use the translation table to remove punctuation from the input string.\n",
        "\n",
        "print(without_punctuation)\n"
      ],
      "metadata": {
        "colab": {
          "base_uri": "https://localhost:8080/"
        },
        "id": "JKVpy41OKcqY",
        "outputId": "3c289335-c70c-419f-addc-290da6a13780"
      },
      "execution_count": null,
      "outputs": [
        {
          "output_type": "stream",
          "name": "stdout",
          "text": [
            "Enter string : hey, how are you?\n",
            "hey how are you\n"
          ]
        }
      ]
    },
    {
      "cell_type": "markdown",
      "source": [
        "38. Check if a string contains only digits."
      ],
      "metadata": {
        "id": "CFm9PrjWOs_F"
      }
    },
    {
      "cell_type": "code",
      "source": [
        "str=input(\"Enter string :\")\n",
        "\n",
        "if str.isdigit():\n",
        "  print (\"string contain only digits :\",str)\n",
        "else:\n",
        "  print(\"String is not contain only digits :\",str)"
      ],
      "metadata": {
        "colab": {
          "base_uri": "https://localhost:8080/"
        },
        "id": "2lAbf7DNOxim",
        "outputId": "375d1adf-4f3c-4226-d90a-4982869d7a70"
      },
      "execution_count": null,
      "outputs": [
        {
          "output_type": "stream",
          "name": "stdout",
          "text": [
            "Enter string :98797\n",
            "string contain only digits : 98797\n"
          ]
        }
      ]
    },
    {
      "cell_type": "markdown",
      "source": [
        "39. Check if a string contains only alphabets."
      ],
      "metadata": {
        "id": "rL9F8YyrQy9_"
      }
    },
    {
      "cell_type": "code",
      "source": [
        "str=input(\"Enter string :\")\n",
        "\n",
        "if str.isalpha():\n",
        "  print (\"string contain only alphabets :\",str)\n",
        "else:\n",
        "  print(\"String is not contain only alphabets :\",str)"
      ],
      "metadata": {
        "colab": {
          "base_uri": "https://localhost:8080/"
        },
        "id": "9OpSOSCdQ3-e",
        "outputId": "76efded8-6bc2-4ed9-a05f-d1ca74107907"
      },
      "execution_count": null,
      "outputs": [
        {
          "output_type": "stream",
          "name": "stdout",
          "text": [
            "Enter string :pratp\n",
            "string contain only alphabets : pratp\n"
          ]
        }
      ]
    },
    {
      "cell_type": "markdown",
      "source": [
        "40. Convert a string to a list of characters."
      ],
      "metadata": {
        "id": "BxtOpZVYRQep"
      }
    },
    {
      "cell_type": "code",
      "source": [
        "str=\"my self pratap 777\"\n",
        "\n",
        "convert=list(str)\n",
        "print(convert ,end=\" \")"
      ],
      "metadata": {
        "colab": {
          "base_uri": "https://localhost:8080/"
        },
        "id": "sFzdNW6CRWxg",
        "outputId": "c5504b54-e5da-4852-b9cf-06154531fe60"
      },
      "execution_count": null,
      "outputs": [
        {
          "output_type": "stream",
          "name": "stdout",
          "text": [
            "['m', 'y', ' ', 's', 'e', 'l', 'f', ' ', 'p', 'r', 'a', 't', 'a', 'p', ' ', '7', '7', '7'] "
          ]
        }
      ]
    },
    {
      "cell_type": "markdown",
      "source": [
        "41. Check if two strings are anagrams."
      ],
      "metadata": {
        "id": "5QhiSSDmR9oz"
      }
    },
    {
      "cell_type": "code",
      "source": [
        "str1=input(\"Enter first string :\")\n",
        "str2=input(\"Enter second string :\")\n",
        "\n",
        "\n",
        "if sorted(str1)==sorted(str2):\n",
        "  print(f\"'{str1}' and '{str2}' are anagrams.\" )\n",
        "else:\n",
        "  print(f\"'{str}' and '{str2}' are not anagrams.\")"
      ],
      "metadata": {
        "colab": {
          "base_uri": "https://localhost:8080/"
        },
        "id": "MzEOU_ZCSHBm",
        "outputId": "17a57471-e862-42ac-c85a-1295e7d8d352"
      },
      "execution_count": null,
      "outputs": [
        {
          "output_type": "stream",
          "name": "stdout",
          "text": [
            "Enter first string :listen\n",
            "Enter second string :silent\n",
            "'netsil' and 'silent' are anagrams.\n"
          ]
        }
      ]
    },
    {
      "cell_type": "markdown",
      "source": [
        "42. Encode a string using a Caesar cipher."
      ],
      "metadata": {
        "id": "8d9deL36YmVB"
      }
    },
    {
      "cell_type": "code",
      "source": [],
      "metadata": {
        "id": "SvtlOcu1YrYo"
      },
      "execution_count": null,
      "outputs": []
    },
    {
      "cell_type": "markdown",
      "source": [
        "43. Decode a Caesar cipher encoded string."
      ],
      "metadata": {
        "id": "3uq0LGravLhV"
      }
    },
    {
      "cell_type": "code",
      "source": [],
      "metadata": {
        "id": "yxvCjgFTvMkx"
      },
      "execution_count": null,
      "outputs": []
    },
    {
      "cell_type": "markdown",
      "source": [
        "44. Find the most frequent word in a string."
      ],
      "metadata": {
        "id": "7d2yGH0ovNP3"
      }
    },
    {
      "cell_type": "code",
      "source": [
        "import re\n",
        "from collections import Counter\n",
        "\n",
        "str= input(\"Enter string :\")\n",
        "\n",
        "cleanstring= re.sub(r'[^\\w\\s]','', str).lower()\n",
        "\n",
        "words = cleanstring.split()\n",
        "wordcounter= Counter(words)\n",
        "\n",
        "mostcommon_word = wordcounter.most_common(1)[0][0]\n",
        "\n",
        "print(\"Most frequent word in string :\",mostcommon_word)\n"
      ],
      "metadata": {
        "colab": {
          "base_uri": "https://localhost:8080/"
        },
        "id": "uL5kCtSY3yYf",
        "outputId": "341820c9-610d-4954-887e-d843e30f11db"
      },
      "execution_count": null,
      "outputs": [
        {
          "output_type": "stream",
          "name": "stdout",
          "text": [
            "Enter string :my name is pratap ,my father name is rajesh  patil\n",
            "Most frequent word in string : my\n"
          ]
        }
      ]
    },
    {
      "cell_type": "markdown",
      "source": [
        "45. Find all unique words in a string."
      ],
      "metadata": {
        "id": "rXi9O87nvNKG"
      }
    },
    {
      "cell_type": "code",
      "source": [
        "import re\n",
        "\n",
        "str=input(\"Enter string :\")\n",
        "\n",
        "cleanstring = re.sub(r'[^\\w\\s]', '',str).lower() # Remove punctuation and convert to lowercase\n",
        "\n",
        "word=set(cleanstring.split())  # Split the string into words and convert to a set for uniqueness\n",
        "\n",
        "\n",
        "print(\"Unique word :\",word)"
      ],
      "metadata": {
        "colab": {
          "base_uri": "https://localhost:8080/"
        },
        "id": "-h6vp51l4Ixh",
        "outputId": "89046470-3395-4b7e-9b07-55dbc55780ce"
      },
      "execution_count": null,
      "outputs": [
        {
          "output_type": "stream",
          "name": "stdout",
          "text": [
            "Enter string :hello  my name is pratap and my father name is rajesh patil\n",
            "Unique word : {'is', 'rajesh', 'father', 'pratap', 'name', 'and', 'hello', 'my', 'patil'}\n"
          ]
        }
      ]
    },
    {
      "cell_type": "markdown",
      "source": [
        "46. Count the number of syllables in a string."
      ],
      "metadata": {
        "id": "veqSgh_q5k1-"
      }
    },
    {
      "cell_type": "code",
      "source": [
        "import re\n",
        "\n",
        "str= input(\"Enter string :\") # take input from the user.\n",
        "\n",
        "vowel= re.findall(r'[aeiou]+', str, re.IGNORECASE)  # Count vowel groups using regular expression.\n",
        "\n",
        "\n",
        "count=len(vowel)\n",
        "\n",
        "print(f\"'{str}' has {count} syllables.\")\n",
        "\n"
      ],
      "metadata": {
        "colab": {
          "base_uri": "https://localhost:8080/"
        },
        "id": "YtVgVC8_59DC",
        "outputId": "e766915b-bbaa-4e56-8310-775c04a83231"
      },
      "execution_count": null,
      "outputs": [
        {
          "output_type": "stream",
          "name": "stdout",
          "text": [
            "Enter string :my self pratap\n",
            "'my self pratap' has 3 syllables.\n"
          ]
        }
      ]
    },
    {
      "cell_type": "markdown",
      "source": [
        "47. Check if a string contains any special characters."
      ],
      "metadata": {
        "id": "ZrbNCybP8hOJ"
      }
    },
    {
      "cell_type": "code",
      "source": [
        "import re\n",
        "\n",
        "str= input(\"Enter the string:\")\n",
        "\n",
        "special_char= re.compile(r'[!@#$%^&*()_+{}[\\]?;:<>,.~\\|]')\n",
        "\n",
        "match= special_char.search(str)\n",
        "\n",
        "result= bool(match)\n",
        "\n",
        "print (result)\n"
      ],
      "metadata": {
        "colab": {
          "base_uri": "https://localhost:8080/"
        },
        "id": "mdPUZO1k8l6k",
        "outputId": "25ee69c9-1c34-45c1-a911-06777e3c71b8"
      },
      "execution_count": null,
      "outputs": [
        {
          "output_type": "stream",
          "name": "stdout",
          "text": [
            "Enter the string:hey!, how are you?\n",
            "True\n"
          ]
        }
      ]
    },
    {
      "cell_type": "markdown",
      "source": [
        "48. Remove the nth word from a string."
      ],
      "metadata": {
        "id": "Icvp0A5eFMRR"
      }
    },
    {
      "cell_type": "code",
      "source": [
        "str=input(\"Enter string :\")\n",
        "del_word=int(inp)\n",
        "\n",
        "spl= str.split()\n",
        "rem=spl.pop()\n",
        "mod_str=\" \".join(spl)\n",
        "print(mod_str)\n",
        "print(rem)"
      ],
      "metadata": {
        "id": "eZ4-T0eAFUNj",
        "colab": {
          "base_uri": "https://localhost:8080/"
        },
        "outputId": "fde537c1-6159-4272-932e-32375e171bac"
      },
      "execution_count": null,
      "outputs": [
        {
          "output_type": "stream",
          "name": "stdout",
          "text": [
            "my name is\n",
            "pratap\n"
          ]
        }
      ]
    },
    {
      "cell_type": "markdown",
      "source": [
        "49. Insert a word at the nth position in a string."
      ],
      "metadata": {
        "id": "7GdYopl6sD0N"
      }
    },
    {
      "cell_type": "code",
      "source": [
        "str=input(\"Enter string: \")\n",
        "num=int(input(\"Enter num: \"))\n",
        "word=input(\"Enter word: \")\n",
        "\n",
        "spli= str.split()\n",
        "\n",
        "afterstr=spli.insert(num,word)\n",
        "modstri=\" \".join(spli)\n",
        "print(word)\n",
        "print(modstri)\n"
      ],
      "metadata": {
        "colab": {
          "base_uri": "https://localhost:8080/"
        },
        "id": "6Z3pDhwUs4Ei",
        "outputId": "7aa7b83e-d3e7-421d-ec6b-fc949bcca77b"
      },
      "execution_count": null,
      "outputs": [
        {
          "output_type": "stream",
          "name": "stdout",
          "text": [
            "Enter string: My name is Pratap Kharabe\n",
            "Enter num: 4\n",
            "Enter word: Rajesh\n",
            "Rajesh\n",
            "My name is Pratap Rajesh Kharabe\n"
          ]
        }
      ]
    },
    {
      "cell_type": "markdown",
      "source": [
        "50. Convert a CSV string to a list of lists."
      ],
      "metadata": {
        "id": "AOGojgVVsDw-"
      }
    },
    {
      "cell_type": "code",
      "source": [
        "def csv_string_to_list(csv_string):\n",
        "    lines = csv_string.split('\\n')\n",
        "\n",
        "    # Initialize an empty list to store the result\n",
        "    result = []\n",
        "\n",
        "    for line in lines:\n",
        "        # Split each line into fields using comma as the delimiter\n",
        "        fields = line.split(',')\n",
        "\n",
        "        # Append the fields to the result list as a row\n",
        "        result.append(fields)\n",
        "\n",
        "    return result\n",
        "\n",
        "csvdata = \"Name, score, 4/6\\nRohit, 54, 4/2\\nRahul, 39, 4/0\\nKishan, 34, 3/1\"\n",
        "\n",
        "lists = csv_string_to_list(csvdata)\n",
        "\n",
        "for row in lists:\n",
        "    print(row)"
      ],
      "metadata": {
        "colab": {
          "base_uri": "https://localhost:8080/"
        },
        "id": "yOsQ0c9AtCKh",
        "outputId": "9008f96f-9aee-49e9-ea5e-6128c9d9d947"
      },
      "execution_count": null,
      "outputs": [
        {
          "output_type": "stream",
          "name": "stdout",
          "text": [
            "['Name', ' score', ' 4/6']\n",
            "['Rohit', ' 54', ' 4/2']\n",
            "['Rahul', ' 39', ' 4/0']\n",
            "['Kishan', ' 34', ' 3/1']\n"
          ]
        }
      ]
    },
    {
      "cell_type": "markdown",
      "source": [
        "** List based practice problem :**"
      ],
      "metadata": {
        "id": "uzSVVWZ7sDvG"
      }
    },
    {
      "cell_type": "markdown",
      "source": [
        "1. Create a list with integers from 1 to 10."
      ],
      "metadata": {
        "id": "Mf8xHF7Xt2aB"
      }
    },
    {
      "cell_type": "code",
      "source": [
        "lis=[i for i in range(1,11)] #take for loop to print 1 to 10 integers.\n",
        "\n",
        "print(lis)# print the string.\n"
      ],
      "metadata": {
        "colab": {
          "base_uri": "https://localhost:8080/"
        },
        "id": "DgbgZmDPtusJ",
        "outputId": "062f7827-f1c5-4f3c-c88b-af8d5077780a"
      },
      "execution_count": null,
      "outputs": [
        {
          "output_type": "stream",
          "name": "stdout",
          "text": [
            "[1, 2, 3, 4, 5, 6, 7, 8, 9, 10]\n"
          ]
        }
      ]
    },
    {
      "cell_type": "markdown",
      "source": [
        "2. Find the length of a list without using the len() function."
      ],
      "metadata": {
        "id": "jchiiF-_ziYd"
      }
    },
    {
      "cell_type": "code",
      "source": [
        "lis=[10,20,'weee',43,235,54]\n",
        "\n",
        "count = 0\n",
        "\n",
        "for i in lis:\n",
        "  count +=1\n",
        "print(\"lenth of list :\",count)"
      ],
      "metadata": {
        "colab": {
          "base_uri": "https://localhost:8080/"
        },
        "id": "V_31eiF0zmOk",
        "outputId": "cc999fab-047d-4406-807c-926f828c1f8a"
      },
      "execution_count": null,
      "outputs": [
        {
          "output_type": "stream",
          "name": "stdout",
          "text": [
            "lenth of list : 6\n"
          ]
        }
      ]
    },
    {
      "cell_type": "markdown",
      "source": [],
      "metadata": {
        "id": "MuZ5HUTr0bbH"
      }
    },
    {
      "cell_type": "code",
      "source": [
        "\n",
        "\n",
        "ggggggggggggggggggg\n",
        "ggggg\n",
        "ggggggggggggggggggg\n",
        "gggggggggggggggggg\n",
        "gggg\n",
        "ggggggggggg\n"
      ],
      "metadata": {
        "id": "COPGyMPw03SZ"
      },
      "execution_count": null,
      "outputs": []
    },
    {
      "cell_type": "markdown",
      "source": [
        "3. Append an element to the end of a list."
      ],
      "metadata": {
        "id": "cyjFZmej1VfP"
      }
    },
    {
      "cell_type": "code",
      "source": [
        "lis=[10,20,30,40,\"hii\",92]\n",
        "\n",
        "new= 77\n",
        "\n",
        "lis.append(new)\n",
        "print(\"new list :\",lis)"
      ],
      "metadata": {
        "colab": {
          "base_uri": "https://localhost:8080/"
        },
        "id": "TK3xJx-X1dM-",
        "outputId": "83f8fa6e-7c35-42c6-cbde-dac20ab7960f"
      },
      "execution_count": null,
      "outputs": [
        {
          "output_type": "stream",
          "name": "stdout",
          "text": [
            "new list : [10, 20, 30, 40, 'hii', 92, 77]\n"
          ]
        }
      ]
    },
    {
      "cell_type": "markdown",
      "source": [
        "4. Insert an element at a specific index in a list."
      ],
      "metadata": {
        "id": "OeCRk9422RfS"
      }
    },
    {
      "cell_type": "code",
      "source": [
        "lis=[10,20,21,42,53,43]\n",
        "\n",
        "index=int(input(\"Enter index: \"))\n",
        "element=input(\"Enter Element :\")\n",
        "\n",
        "lis.insert(index,element)\n",
        "print(\"updated list : \",lis)\n"
      ],
      "metadata": {
        "colab": {
          "base_uri": "https://localhost:8080/"
        },
        "id": "8xQubHqA2V-b",
        "outputId": "f14e3790-0e28-4463-b246-6f271244ea03"
      },
      "execution_count": null,
      "outputs": [
        {
          "output_type": "stream",
          "name": "stdout",
          "text": [
            "Enter index: 4\n",
            "Enter Element :hii\n",
            "updated list :  [10, 20, 21, 42, 'hii', 53, 43]\n"
          ]
        }
      ]
    },
    {
      "cell_type": "markdown",
      "source": [
        "\\"
      ],
      "metadata": {
        "id": "x_5IMt-FtdgL"
      }
    },
    {
      "cell_type": "markdown",
      "source": [
        "5. Remove an element from a list by its value."
      ],
      "metadata": {
        "id": "OsJNBgvz3Wnl"
      }
    },
    {
      "cell_type": "code",
      "source": [
        "lis=[10,20,21,42,53,43]\n",
        "\n",
        "rem=10\n",
        "\n",
        "lis.remove(rem)\n",
        "print(\"After remove the element: \",lis)"
      ],
      "metadata": {
        "colab": {
          "base_uri": "https://localhost:8080/"
        },
        "id": "vQgobH1U3hhl",
        "outputId": "22e12f8e-a0a7-47f6-d14f-cfb278417092"
      },
      "execution_count": null,
      "outputs": [
        {
          "output_type": "stream",
          "name": "stdout",
          "text": [
            "After remove the element:  [20, 21, 42, 53, 43]\n"
          ]
        }
      ]
    },
    {
      "cell_type": "markdown",
      "source": [
        "6. Remove an element from a list by its index."
      ],
      "metadata": {
        "id": "pDClbR9M5B1i"
      }
    },
    {
      "cell_type": "code",
      "source": [
        "lis=[10,20,21,'hii',42,53,43]\n",
        "\n",
        "inde = 3\n",
        "\n",
        "after=lis.pop(inde)\n",
        "print(\"Updated list: \",lis)\n",
        "print(\"deleted Element: \",after)"
      ],
      "metadata": {
        "colab": {
          "base_uri": "https://localhost:8080/"
        },
        "id": "vOsPtgFy5FKT",
        "outputId": "8dd98e56-c083-4c08-d8ed-c7741847013e"
      },
      "execution_count": null,
      "outputs": [
        {
          "output_type": "stream",
          "name": "stdout",
          "text": [
            "Updated list:  [10, 20, 21, 42, 53, 43]\n",
            "deleted Element:  hii\n"
          ]
        }
      ]
    },
    {
      "cell_type": "markdown",
      "source": [
        "7. Check if an element exists in a list."
      ],
      "metadata": {
        "id": "dSxR6E3469i0"
      }
    },
    {
      "cell_type": "code",
      "source": [
        "lis=[10,20,21,42,53,43]\n",
        "\n",
        "element=20\n",
        "\n",
        "if element in lis:\n",
        "  print(f\"yes, {element} is in list.\")\n",
        "else:\n",
        "  print(f\"{element} is not prasent in list.\")"
      ],
      "metadata": {
        "colab": {
          "base_uri": "https://localhost:8080/"
        },
        "id": "RdJyAHdl7CwL",
        "outputId": "c32b6a0e-d3e1-41c2-d152-ce959752bc19"
      },
      "execution_count": null,
      "outputs": [
        {
          "output_type": "stream",
          "name": "stdout",
          "text": [
            "yes, 20 is in list\n"
          ]
        }
      ]
    },
    {
      "cell_type": "markdown",
      "source": [
        "8. Find the index of the first occurrence of an element in a list."
      ],
      "metadata": {
        "id": "wqg6fmui8wYa"
      }
    },
    {
      "cell_type": "code",
      "source": [
        "lis=[10,20,21,42,53,43]\n",
        "\n",
        "element = 20\n",
        "\n",
        "inde = lis.index(element)\n",
        "\n",
        "print(f\"The index of {element} is {inde}.\")\n"
      ],
      "metadata": {
        "colab": {
          "base_uri": "https://localhost:8080/"
        },
        "id": "_u_KXCZB82tR",
        "outputId": "1d2d0345-87e3-45b0-dfbe-18c20a409914"
      },
      "execution_count": null,
      "outputs": [
        {
          "output_type": "stream",
          "name": "stdout",
          "text": [
            "The index of 20 is 1.\n"
          ]
        }
      ]
    },
    {
      "cell_type": "markdown",
      "source": [
        "9. Count the occurrences of an element in a list."
      ],
      "metadata": {
        "id": "C3YgyWr585lI"
      }
    },
    {
      "cell_type": "code",
      "source": [
        "lis=[10,20,21,20,42,53,43]\n",
        "\n",
        "element = 20\n",
        "\n",
        "coun = lis.count(element)\n",
        "print(f\"the {element} occurs {coun} times in list.\")"
      ],
      "metadata": {
        "colab": {
          "base_uri": "https://localhost:8080/"
        },
        "id": "6k8iBPxq9soQ",
        "outputId": "56edacc5-2d75-47fc-ec49-d0890cdfcac3"
      },
      "execution_count": null,
      "outputs": [
        {
          "output_type": "stream",
          "name": "stdout",
          "text": [
            "the 20 occurs 2 times in list.\n"
          ]
        }
      ]
    },
    {
      "cell_type": "markdown",
      "source": [
        "10. Reverse the order of elements in a list."
      ],
      "metadata": {
        "id": "VCy2QM_N85h5"
      }
    },
    {
      "cell_type": "code",
      "source": [
        "lis=[10,20,21,42,53,43]\n",
        "\n",
        "lis.reverse()\n",
        "\n",
        "print(\"After reverse the list: \",lis)"
      ],
      "metadata": {
        "colab": {
          "base_uri": "https://localhost:8080/"
        },
        "id": "D-lE6ZJT-nt_",
        "outputId": "c7d14fb7-c6ff-4db6-bf3b-8b15afd2089b"
      },
      "execution_count": null,
      "outputs": [
        {
          "output_type": "stream",
          "name": "stdout",
          "text": [
            "After reverse the list:  [43, 53, 42, 21, 20, 10]\n"
          ]
        }
      ]
    },
    {
      "cell_type": "markdown",
      "source": [
        "11. Sort a list in ascending order."
      ],
      "metadata": {
        "id": "NQ_Tjpv9-6VI"
      }
    },
    {
      "cell_type": "code",
      "source": [
        "lis=[10,20,21,42,53,43]\n",
        "\n",
        "lis.sort()\n",
        "\n",
        "print(\"List in ascending order: \",lis)"
      ],
      "metadata": {
        "colab": {
          "base_uri": "https://localhost:8080/"
        },
        "id": "rV_px1Hs_Eqe",
        "outputId": "9db85224-912c-4c35-810a-d215db651010"
      },
      "execution_count": null,
      "outputs": [
        {
          "output_type": "stream",
          "name": "stdout",
          "text": [
            "List in ascending order:  [10, 20, 21, 42, 43, 53]\n"
          ]
        }
      ]
    },
    {
      "cell_type": "markdown",
      "source": [
        "12. Sort a list in descending order."
      ],
      "metadata": {
        "id": "_amk71G6_fS9"
      }
    },
    {
      "cell_type": "code",
      "source": [
        "lis=[10,20,21,42,53,43]\n",
        "\n",
        "lis.sort(reverse=True)\n",
        "print(\"list in descending order: \",lis)"
      ],
      "metadata": {
        "colab": {
          "base_uri": "https://localhost:8080/"
        },
        "id": "3yrIpCP2_jju",
        "outputId": "3e73038f-e89b-4508-8159-1bade097990f"
      },
      "execution_count": null,
      "outputs": [
        {
          "output_type": "stream",
          "name": "stdout",
          "text": [
            "list in descending order:  [53, 43, 42, 21, 20, 10]\n"
          ]
        }
      ]
    },
    {
      "cell_type": "markdown",
      "source": [
        "13. Create a list of even numbers from 1 to 20."
      ],
      "metadata": {
        "id": "zv9zhlb8_9sU"
      }
    },
    {
      "cell_type": "code",
      "source": [
        "lis=[ i for i in range (2,21,2)]\n",
        "print(\"Even number:\",lis)"
      ],
      "metadata": {
        "colab": {
          "base_uri": "https://localhost:8080/"
        },
        "id": "0IXOUCOmACB1",
        "outputId": "51c6891f-a707-4b6c-a69c-d56d746a4de2"
      },
      "execution_count": null,
      "outputs": [
        {
          "output_type": "stream",
          "name": "stdout",
          "text": [
            "Even number: [2, 4, 6, 8, 10, 12, 14, 16, 18, 20]\n"
          ]
        }
      ]
    },
    {
      "cell_type": "markdown",
      "source": [
        "14. Create a list of odd numbers from 1 to 20."
      ],
      "metadata": {
        "id": "HJ-5YbgjAs0H"
      }
    },
    {
      "cell_type": "code",
      "source": [
        "lis=[i for i in range (1,21,2)]\n",
        "print(\"Odd number:\",lis)"
      ],
      "metadata": {
        "colab": {
          "base_uri": "https://localhost:8080/"
        },
        "id": "rOuRs9ZiAyHm",
        "outputId": "a09d207f-f566-49d0-baf6-bfd455a6b2fe"
      },
      "execution_count": null,
      "outputs": [
        {
          "output_type": "stream",
          "name": "stdout",
          "text": [
            "Odd number: [1, 3, 5, 7, 9, 11, 13, 15, 17, 19]\n"
          ]
        }
      ]
    },
    {
      "cell_type": "markdown",
      "source": [
        "15. Find the sum of all elements in a list."
      ],
      "metadata": {
        "id": "fzPci66_Asx8"
      }
    },
    {
      "cell_type": "code",
      "source": [
        "lis=[10,20,21,42,53,43]\n",
        "\n",
        "total = sum(lis)\n",
        "\n",
        "print(\"sum of list :\",total)\n"
      ],
      "metadata": {
        "colab": {
          "base_uri": "https://localhost:8080/"
        },
        "id": "a-JV0pmhBObt",
        "outputId": "61db88af-a21c-40d5-b8b9-3d818d819f0b"
      },
      "execution_count": null,
      "outputs": [
        {
          "output_type": "stream",
          "name": "stdout",
          "text": [
            "sum of list : 189\n"
          ]
        }
      ]
    },
    {
      "cell_type": "markdown",
      "source": [
        "16. Find the maximum value in a list."
      ],
      "metadata": {
        "id": "05_F-eanBpWW"
      }
    },
    {
      "cell_type": "code",
      "source": [
        "lis=[10,20,21,42,53,43]\n",
        "\n",
        "maximum = max(lis)\n",
        "print(\"Maximum value in list: \",maximum)"
      ],
      "metadata": {
        "colab": {
          "base_uri": "https://localhost:8080/"
        },
        "id": "Dg2fZTyLBwMk",
        "outputId": "8fc795a6-0f83-4c86-e793-a5a8756402fe"
      },
      "execution_count": null,
      "outputs": [
        {
          "output_type": "stream",
          "name": "stdout",
          "text": [
            "53\n"
          ]
        }
      ]
    },
    {
      "cell_type": "markdown",
      "source": [
        "18. Create a list of squares of numbers from 1 to 10."
      ],
      "metadata": {
        "id": "GI8F2xl4Ce3J"
      }
    },
    {
      "cell_type": "code",
      "source": [
        "lis =[i**2 for i in range (1,11)]\n",
        "print(\"Square of 1 to 10:\",lis)"
      ],
      "metadata": {
        "colab": {
          "base_uri": "https://localhost:8080/"
        },
        "id": "UDHV9dERChAZ",
        "outputId": "877eea30-5dee-42b7-9cbf-7cffd0abaa45"
      },
      "execution_count": null,
      "outputs": [
        {
          "output_type": "stream",
          "name": "stdout",
          "text": [
            "Square of 1 to 10: [1, 4, 9, 16, 25, 36, 49, 64, 81, 100]\n"
          ]
        }
      ]
    },
    {
      "cell_type": "markdown",
      "source": [
        "20. Remove duplicates from a list."
      ],
      "metadata": {
        "id": "SNWHbQ0-C_bz"
      }
    },
    {
      "cell_type": "code",
      "source": [
        "lis=[10,20,21,20,42,53,43]\n",
        "\n",
        "list(set(lis)) # conovert in set\n",
        "\n"
      ],
      "metadata": {
        "colab": {
          "base_uri": "https://localhost:8080/"
        },
        "id": "gSESx3QsDEQd",
        "outputId": "5383291e-b8d1-4595-99b5-321d524b7b41"
      },
      "execution_count": null,
      "outputs": [
        {
          "output_type": "execute_result",
          "data": {
            "text/plain": [
              "[10, 42, 43, 20, 53, 21]"
            ]
          },
          "metadata": {},
          "execution_count": 43
        }
      ]
    },
    {
      "cell_type": "markdown",
      "source": [
        "21. Find the common elements between two lists."
      ],
      "metadata": {
        "id": "ZbIZ2uFkDtZD"
      }
    },
    {
      "cell_type": "code",
      "source": [
        "lis=[10,20,21,42,53,43]\n",
        "lis1=[100,20,201,42,593,43]\n",
        "\n",
        "same=list(set(lis).intersection(lis1))\n",
        "\n",
        "print(\"commomn element in list:\",same)"
      ],
      "metadata": {
        "colab": {
          "base_uri": "https://localhost:8080/"
        },
        "id": "8uZ0ze6VDX1E",
        "outputId": "8bc36b74-4da5-48e3-c055-25f42991ba50"
      },
      "execution_count": null,
      "outputs": [
        {
          "output_type": "stream",
          "name": "stdout",
          "text": [
            "commomn element in list: [42, 43, 20]\n"
          ]
        }
      ]
    },
    {
      "cell_type": "markdown",
      "source": [
        "22. Find the difference between two lists."
      ],
      "metadata": {
        "id": "CGLc6yC4FLZm"
      }
    },
    {
      "cell_type": "code",
      "source": [
        "lis=[10,20,21,42,53,43]\n",
        "lis1=[100,20,201,42,533,43]\n",
        "\n",
        "dif= list(set(lis).difference(lis1))\n",
        "\n",
        "print(\"Defferent element in tow list:\",dif)\n"
      ],
      "metadata": {
        "colab": {
          "base_uri": "https://localhost:8080/"
        },
        "id": "fqm9mFfkFEKU",
        "outputId": "e6ac3552-961e-457d-ffab-7847b7d19fed"
      },
      "execution_count": null,
      "outputs": [
        {
          "output_type": "stream",
          "name": "stdout",
          "text": [
            "Defferent element in tow list: [53, 21, 10]\n"
          ]
        }
      ]
    },
    {
      "cell_type": "markdown",
      "source": [
        "23. Merge two lists."
      ],
      "metadata": {
        "id": "4bw_Kdy1C_YK"
      }
    },
    {
      "cell_type": "code",
      "source": [
        "lis=[10,20,21,42,53,43]\n",
        "lis1=[100,220,231,432,543,473]\n",
        "\n",
        "lis2 = lis+lis1\n",
        "\n",
        "print(\"Merge Two list :\",lis2)"
      ],
      "metadata": {
        "colab": {
          "base_uri": "https://localhost:8080/"
        },
        "id": "2Aq88TtZGPEB",
        "outputId": "e08e4fbd-cb4a-4484-da75-aa3e5af40182"
      },
      "execution_count": null,
      "outputs": [
        {
          "output_type": "stream",
          "name": "stdout",
          "text": [
            "Merge Two list : [10, 20, 21, 42, 53, 43, 100, 220, 231, 432, 543, 473]\n"
          ]
        }
      ]
    },
    {
      "cell_type": "markdown",
      "source": [
        "24. Multiply all elements in a list by 2."
      ],
      "metadata": {
        "id": "IXW78KmzGunx"
      }
    },
    {
      "cell_type": "code",
      "source": [
        "lst =[10,20,21,42,53,43]\n",
        "\n",
        "multi = [i*2 for i in lst]\n",
        "\n",
        "print(\"Multiplied list: \",multi)"
      ],
      "metadata": {
        "colab": {
          "base_uri": "https://localhost:8080/"
        },
        "id": "3b-z8iOYGylJ",
        "outputId": "f3584579-e38b-4a0e-b83b-99e388978143"
      },
      "execution_count": null,
      "outputs": [
        {
          "output_type": "stream",
          "name": "stdout",
          "text": [
            "Multiplied list:  [20, 40, 42, 84, 106, 86]\n"
          ]
        }
      ]
    },
    {
      "cell_type": "markdown",
      "source": [
        "25. Filter out all even numbers from a list."
      ],
      "metadata": {
        "id": "9JHvSg1-HdU6"
      }
    },
    {
      "cell_type": "code",
      "source": [
        "lst =[10,20,21,42,53,43]\n",
        "\n",
        "even= []\n",
        "\n",
        "for i in lst:\n",
        "  if i%2==0:\n",
        "    even.append(i)\n",
        "\n",
        "print(even)"
      ],
      "metadata": {
        "colab": {
          "base_uri": "https://localhost:8080/"
        },
        "id": "2YXJOwVrHw6Z",
        "outputId": "6c68dcd6-5c4a-457e-b86c-731b6eff7804"
      },
      "execution_count": null,
      "outputs": [
        {
          "output_type": "stream",
          "name": "stdout",
          "text": [
            "[10, 20, 42]\n"
          ]
        }
      ]
    },
    {
      "cell_type": "markdown",
      "source": [
        "26. Convert a list of strings to a list of integers."
      ],
      "metadata": {
        "id": "taJd9hqVJwCD"
      }
    },
    {
      "cell_type": "code",
      "source": [
        "lst = ['10','23','43','23','64','33']\n",
        "\n",
        "convert = [int(i) for i in lst]\n",
        "\n",
        "print(\"convert list of string to integers: \",convert)"
      ],
      "metadata": {
        "colab": {
          "base_uri": "https://localhost:8080/"
        },
        "id": "JhcDE2HeJ1ie",
        "outputId": "fe214e3c-cb22-4da9-9357-a8c2930070d8"
      },
      "execution_count": null,
      "outputs": [
        {
          "output_type": "stream",
          "name": "stdout",
          "text": [
            "convert list of string to integers:  [10, 23, 43, 23, 64, 33]\n"
          ]
        }
      ]
    },
    {
      "cell_type": "markdown",
      "source": [
        "27. Convert a list of integers to a list of strings.\n"
      ],
      "metadata": {
        "id": "3SXjKA74Jv-M"
      }
    },
    {
      "cell_type": "code",
      "source": [
        "strd =[10, 20, 30, 40, 50]\n",
        "convert = [str(i) for i in strd]\n",
        "\n",
        "print(\"Convert list integer to string: \",convert)"
      ],
      "metadata": {
        "id": "bi1JDuZ4N6Ko",
        "outputId": "2c25b4b8-a784-4881-a044-aefd0ea07b29",
        "colab": {
          "base_uri": "https://localhost:8080/"
        }
      },
      "execution_count": null,
      "outputs": [
        {
          "output_type": "stream",
          "name": "stdout",
          "text": [
            "Convert list integer to string:  ['10', '20', '30', '40', '50']\n"
          ]
        }
      ]
    },
    {
      "cell_type": "markdown",
      "source": [
        "28. Flatten a nested list."
      ],
      "metadata": {
        "id": "ljPmau7bF8p_"
      }
    },
    {
      "cell_type": "code",
      "source": [
        "lst = [[1,2,3,4],[5,6,7,43],[34,65,54,32]] #nested list\n",
        "\n",
        "def flatten_list(nested):\n",
        "    flattened = []\n",
        "    for sublist in nested:\n",
        "        if isinstance(sublist, list):\n",
        "            flattened.extend(flatten_list(sublist))\n",
        "        else:\n",
        "            flattened.append(sublist)\n",
        "    return flattened\n",
        "\n",
        "# Flatten the nested list\n",
        "flattened_list = flatten_list(lst)\n",
        "\n",
        "# Print the flattened list\n",
        "print(\"Flattened list:\", flattened_list)"
      ],
      "metadata": {
        "id": "8a0CHyCZN6IT",
        "colab": {
          "base_uri": "https://localhost:8080/"
        },
        "outputId": "aa5f2aaf-6c2c-4899-bd1c-16a2a497b540"
      },
      "execution_count": null,
      "outputs": [
        {
          "output_type": "stream",
          "name": "stdout",
          "text": [
            "Flattened list: [1, 2, 3, 4, 5, 6, 7, 43, 34, 65, 54, 32]\n"
          ]
        }
      ]
    },
    {
      "cell_type": "markdown",
      "source": [
        "29. Create a list of the first 10 Fibonacci numbers."
      ],
      "metadata": {
        "id": "MqR0tUyyJrYB"
      }
    },
    {
      "cell_type": "code",
      "source": [
        "\n",
        "num = 0\n",
        "num1 = 1\n",
        "fab_num = num1\n",
        "count = 0\n",
        "\n",
        "while count <=10:\n",
        "  print(fab_num, end=\" \")\n",
        "  count +=1\n",
        "  num, num1 =num1, fab_num\n",
        "  fab_num = num + num1\n",
        "\n"
      ],
      "metadata": {
        "colab": {
          "base_uri": "https://localhost:8080/"
        },
        "id": "KCbYRuGbJwqj",
        "outputId": "d2a325ab-00a1-40e6-ba1c-6041ab063db8"
      },
      "execution_count": null,
      "outputs": [
        {
          "output_type": "stream",
          "name": "stdout",
          "text": [
            "1 2 3 5 8 13 21 34 55 89 144 "
          ]
        }
      ]
    },
    {
      "cell_type": "markdown",
      "source": [
        "30. Check if a list is sorted."
      ],
      "metadata": {
        "id": "TlQPMz2bJrTT"
      }
    },
    {
      "cell_type": "code",
      "source": [
        "def sorted_list(lst):\n",
        "\n",
        "  for i in range(1 , len(lst)):\n",
        "\n",
        "    if lst[i] < lst[i-1]:\n",
        "      return False\n",
        "  return True\n",
        "\n",
        "lsti=[1,2,2,4,2,1,4,3]\n",
        "\n",
        "if sorted_list(lsti):\n",
        "  print(\"list is sorted\")\n",
        "else:\n",
        "  print(\"list is unsorted\")\n",
        "\n"
      ],
      "metadata": {
        "colab": {
          "base_uri": "https://localhost:8080/"
        },
        "id": "qav0m4ecM3xY",
        "outputId": "33475b36-a2fd-4a3e-b91b-c0c54bb6d06d"
      },
      "execution_count": null,
      "outputs": [
        {
          "output_type": "stream",
          "name": "stdout",
          "text": [
            "list is unsorted\n"
          ]
        }
      ]
    },
    {
      "cell_type": "markdown",
      "source": [
        "31. Rotate a list to the left by n positions."
      ],
      "metadata": {
        "id": "lSVIs6hbQuAQ"
      }
    },
    {
      "cell_type": "code",
      "source": [
        "def rotate_left(lst,n):\n",
        "  n=n%len(lst)\n",
        "  rotated= lst[n:]+lst[:n]\n",
        "  return rotated\n",
        "\n",
        "li=[1,2,3,4,5,6,7]\n",
        "n= 3\n",
        "\n",
        "rotatedlist=rotate_left(li,n)\n",
        "print(\"Roted list :\",rotatedlist)\n"
      ],
      "metadata": {
        "colab": {
          "base_uri": "https://localhost:8080/"
        },
        "id": "0zCGhK1TRaHt",
        "outputId": "c8f3e32d-0fda-4683-d852-02e8ee78dd78"
      },
      "execution_count": null,
      "outputs": [
        {
          "output_type": "stream",
          "name": "stdout",
          "text": [
            "[4, 5, 6, 7, 1, 2, 3]\n"
          ]
        }
      ]
    },
    {
      "cell_type": "markdown",
      "source": [
        "32. Rotate a list to the right by n positions."
      ],
      "metadata": {
        "id": "3AZHRYTCS9mO"
      }
    },
    {
      "cell_type": "code",
      "source": [
        "def rotate_left(lst,n):\n",
        "  n=n%len(lst)\n",
        "  rotated= lst[-n:]+lst[:-n]\n",
        "  return rotated\n",
        "\n",
        "li=[1,2,3,4,5,6,7]\n",
        "n= 3\n",
        "\n",
        "rotatedlist=rotate_left(li,n)\n",
        "print(\"Roted list :\",rotatedlist)\n"
      ],
      "metadata": {
        "colab": {
          "base_uri": "https://localhost:8080/"
        },
        "id": "SnI4NI79TCag",
        "outputId": "503f1546-f4ce-4807-f783-ae8623387cb9"
      },
      "execution_count": null,
      "outputs": [
        {
          "output_type": "stream",
          "name": "stdout",
          "text": [
            "Roted list : [5, 6, 7, 1, 2, 3, 4]\n"
          ]
        }
      ]
    },
    {
      "cell_type": "markdown",
      "source": [
        "33. Create a list of prime numbers up to 50."
      ],
      "metadata": {
        "id": "KoNaCl_xTczR"
      }
    },
    {
      "cell_type": "code",
      "source": [
        "def is_prime(num):\n",
        "    if num <= 1:\n",
        "        return False\n",
        "    if num <= 3:\n",
        "        return True\n",
        "    if num % 2 == 0 or num % 3 == 0:\n",
        "        return False\n",
        "    i = 5\n",
        "    while i * i <= num:\n",
        "      print(i,num)\n",
        "      if num % i == 0 or num % (i + 2) == 0:\n",
        "          return False\n",
        "      i += 6\n",
        "    return True\n",
        "\n",
        "# Create a list of prime numbers up to 50\n",
        "prime_numbers = [num for num in range(2,30) if is_prime(num)]\n",
        "\n",
        "# Print the list of prime numbers\n",
        "print(\"List of prime numbers up to 50:\", prime_numbers)"
      ],
      "metadata": {
        "colab": {
          "base_uri": "https://localhost:8080/"
        },
        "id": "5HDsre3ZTeYb",
        "outputId": "c3bdd3f1-ad3c-468e-d4d2-e13d9316abbd"
      },
      "execution_count": null,
      "outputs": [
        {
          "output_type": "stream",
          "name": "stdout",
          "text": [
            "5 25\n",
            "5 29\n",
            "List of prime numbers up to 50: [2, 3, 5, 7, 11, 13, 17, 19, 23, 29]\n"
          ]
        }
      ]
    },
    {
      "cell_type": "markdown",
      "source": [
        "34. Split a list into chunks of size n."
      ],
      "metadata": {
        "id": "VrWCjJxJplXO"
      }
    },
    {
      "cell_type": "code",
      "source": [
        "# Create a list of prime numbers up to 50 using Sieve of Eratosthenes algorithm\n",
        "def sieve_of_eratosthenes(limit):\n",
        "    primes = []\n",
        "    is_prime = [True] * (limit + 1)\n",
        "    is_prime[0] = is_prime[1] = False\n",
        "\n",
        "    for num in range(2, int(limit ** 0.5) + 1):\n",
        "        if is_prime[num]:\n",
        "            primes.append(num)\n",
        "            for multiple in range(num * num, limit + 1, num):\n",
        "                is_prime[multiple] = False\n",
        "\n",
        "    for num in range(int(limit ** 0.5) + 1, limit + 1):\n",
        "        if is_prime[num]:\n",
        "            primes.append(num)\n",
        "\n",
        "    return primes\n",
        "\n",
        "# Create a list of prime numbers up to 50\n",
        "prime_numbers = sieve_of_eratosthenes(50)\n",
        "\n",
        "# Print the list of prime numbers\n",
        "print(\"List of prime numbers up to 50:\", prime_numbers)"
      ],
      "metadata": {
        "colab": {
          "base_uri": "https://localhost:8080/"
        },
        "id": "nhOTG_-fpq9J",
        "outputId": "179c217a-63a9-4996-d13c-5b64be53fe54"
      },
      "execution_count": null,
      "outputs": [
        {
          "output_type": "stream",
          "name": "stdout",
          "text": [
            "List of prime numbers up to 50: [2, 3, 5, 7, 11, 13, 17, 19, 23, 29, 31, 37, 41, 43, 47]\n"
          ]
        }
      ]
    },
    {
      "cell_type": "markdown",
      "source": [
        "35. Find the second largest number in a list."
      ],
      "metadata": {
        "id": "FFQl-Q2nplSp"
      }
    },
    {
      "cell_type": "code",
      "source": [
        "lst = [20,14,65,76,89,83,89,77]\n",
        "\n",
        "sortset=set(list(lst)) #converted set for removing duplicate element in liat.\n",
        "\n",
        "convlist=list(set(sortset)) #converte set to list.\n",
        "convlist.sort() #and sort the list .\n",
        "\n",
        "\n",
        "print(\"Second largest element in list: \",convlist[-2]) #print list index [-2] because this is second largest emlement."
      ],
      "metadata": {
        "colab": {
          "base_uri": "https://localhost:8080/"
        },
        "id": "850CjSUoqJ5D",
        "outputId": "e0fd1dec-533c-4834-80d0-aa148d22d7fb"
      },
      "execution_count": null,
      "outputs": [
        {
          "output_type": "stream",
          "name": "stdout",
          "text": [
            "Second largest element in list:  83\n"
          ]
        }
      ]
    },
    {
      "cell_type": "markdown",
      "source": [
        "36. Replace every element in a list with its square."
      ],
      "metadata": {
        "id": "r9GNuzIvt-YU"
      }
    },
    {
      "cell_type": "code",
      "source": [
        "lst =[2,5,34,52,66,8,77]\n",
        "\n",
        "squarelist = [i**2  for i in lst] # take for loop and condition is output multiply by 2.\n",
        "\n",
        "print(\"square of each element in list :\",squarelist)"
      ],
      "metadata": {
        "colab": {
          "base_uri": "https://localhost:8080/"
        },
        "id": "3xdWOlLAuBg2",
        "outputId": "f3cdbbde-72ab-4427-e8fb-a3dfb7973c3a"
      },
      "execution_count": null,
      "outputs": [
        {
          "output_type": "stream",
          "name": "stdout",
          "text": [
            "square of each element in list : [4, 25, 1156, 2704, 4356, 64, 5929]\n"
          ]
        }
      ]
    },
    {
      "cell_type": "markdown",
      "source": [
        "37. Convert a list to a dictionary where list elements become keys and their indices become values."
      ],
      "metadata": {
        "id": "QUMixKYcu9UU"
      }
    },
    {
      "cell_type": "code",
      "source": [
        "lst =  [\"partap\",'Rushi','Ashish','Sachin','Abhishek']\n",
        "\n",
        "condict = {element : index for index, element in enumerate(lst)}\n",
        "\n",
        "print(\"List convert to Dictonary :\",condict)"
      ],
      "metadata": {
        "colab": {
          "base_uri": "https://localhost:8080/"
        },
        "id": "ck-Od98OvAZO",
        "outputId": "4cbb6321-376e-483b-f564-0c4e484dc104"
      },
      "execution_count": null,
      "outputs": [
        {
          "output_type": "stream",
          "name": "stdout",
          "text": [
            "List convert to Dictonary : {'partap': 0, 'Rushi': 1, 'Ashish': 2, 'Sachin': 3, 'Abhishek': 4}\n"
          ]
        }
      ]
    },
    {
      "cell_type": "markdown",
      "source": [
        "38. Shuffle the elements of a list randomly."
      ],
      "metadata": {
        "id": "NsZqfdHuw0RF"
      }
    },
    {
      "cell_type": "code",
      "source": [
        "import random #import random library\n",
        "\n",
        "lst =[2,5,34,52,66,8,77]\n",
        "\n",
        "random.shuffle(lst) #shuffle element in list using random =.shuffle()\n",
        "\n",
        "print(\"shuffled element in list: \",lst)\n",
        "\n"
      ],
      "metadata": {
        "colab": {
          "base_uri": "https://localhost:8080/"
        },
        "id": "rqTHR8YJw6Jp",
        "outputId": "57923a96-dc60-46f5-e68d-068f22f12f1d"
      },
      "execution_count": null,
      "outputs": [
        {
          "output_type": "stream",
          "name": "stdout",
          "text": [
            "shuffled element in list:  [77, 5, 52, 2, 8, 66, 34]\n"
          ]
        }
      ]
    },
    {
      "cell_type": "markdown",
      "source": [
        "39. Create a list of the first 10 factorial numbers."
      ],
      "metadata": {
        "id": "sx-UO7Z-x_qg"
      }
    },
    {
      "cell_type": "code",
      "source": [
        "def factorial(num):\n",
        "\n",
        "  if num==0 or num==1:\n",
        "    return 1\n",
        "  else:\n",
        "    return num * factorial(num-1)\n",
        "\n",
        "factorialliat= [factorial(i) for i in range(10)]\n",
        "\n",
        "print(\"list of the first 10 factorial numbers :\", factorialliat)"
      ],
      "metadata": {
        "colab": {
          "base_uri": "https://localhost:8080/"
        },
        "id": "QOhbcYhy1CZM",
        "outputId": "5b3179ed-0bac-4b9a-9408-5232a2aaa153"
      },
      "execution_count": null,
      "outputs": [
        {
          "output_type": "stream",
          "name": "stdout",
          "text": [
            "list of the first 10 factorial numbers : [1, 1, 2, 6, 24, 120, 720, 5040, 40320, 362880]\n"
          ]
        }
      ]
    },
    {
      "cell_type": "markdown",
      "source": [
        "40. Check if two lists have at least one element in common."
      ],
      "metadata": {
        "id": "KNJSCYUS3WH9"
      }
    },
    {
      "cell_type": "code",
      "source": [
        "def common_element(lst1,lst2):\n",
        "\n",
        "  for item in lst1:\n",
        "    if item in lst2:\n",
        "      return True\n",
        "  return False\n",
        "\n",
        "lst1 = [1,2,3,4,5,6,7,8]\n",
        "lst2 = [23,1,2,33,445,53,7]\n",
        "\n",
        "if common_element(lst1,lst2):\n",
        "  print(\"The list have at least one common element \")\n",
        "else:\n",
        "  print(\"The list do not have any common element\")"
      ],
      "metadata": {
        "colab": {
          "base_uri": "https://localhost:8080/"
        },
        "id": "_xUcXuBh3arc",
        "outputId": "1dacccb5-6d4e-4ea6-9f21-3d2c4db4dbcd"
      },
      "execution_count": null,
      "outputs": [
        {
          "output_type": "stream",
          "name": "stdout",
          "text": [
            "The list have at least one common element \n"
          ]
        }
      ]
    },
    {
      "cell_type": "markdown",
      "source": [
        "41. Remove all elements from a list."
      ],
      "metadata": {
        "id": "fdTcuqGH5Nui"
      }
    },
    {
      "cell_type": "code",
      "source": [
        "lst = [1,2,3,4,5,6,7]\n",
        "\n",
        "lst.clear()\n",
        "print(\"Remove the all element in list:\",lst)"
      ],
      "metadata": {
        "colab": {
          "base_uri": "https://localhost:8080/"
        },
        "id": "br8geSeA5WSG",
        "outputId": "89f328cd-f497-4243-c6ad-a2de47d83375"
      },
      "execution_count": null,
      "outputs": [
        {
          "output_type": "stream",
          "name": "stdout",
          "text": [
            "Remove the all element in list: []\n"
          ]
        }
      ]
    },
    {
      "cell_type": "markdown",
      "source": [
        "42. Replace negative numbers in a list with 0."
      ],
      "metadata": {
        "id": "OVQsZ-7L53bN"
      }
    },
    {
      "cell_type": "code",
      "source": [
        "lst = [1,-2,-34,53,2,-54]\n",
        "\n",
        "for i in range(len(lst)):\n",
        "  if lst[i]<0:\n",
        "    lst[i]=0\n",
        "\n",
        "print(\"Replace negative number to 0 : \",lst)"
      ],
      "metadata": {
        "colab": {
          "base_uri": "https://localhost:8080/"
        },
        "id": "U3IuYIF458bQ",
        "outputId": "0dbd9840-255b-495f-e4a8-46baebaf1c07"
      },
      "execution_count": null,
      "outputs": [
        {
          "output_type": "stream",
          "name": "stdout",
          "text": [
            "Replace negative number to 0 :  [1, 0, 0, 53, 2, 0]\n"
          ]
        }
      ]
    },
    {
      "cell_type": "markdown",
      "source": [
        "43. Convert a string into a list of words."
      ],
      "metadata": {
        "id": "nWk6wYGl60Pa"
      }
    },
    {
      "cell_type": "code",
      "source": [
        "string = \"Hello, this is my laptop\"\n",
        "\n",
        "conlist = string.split()\n",
        "\n",
        "print(\"list of word :\", conlist)"
      ],
      "metadata": {
        "colab": {
          "base_uri": "https://localhost:8080/"
        },
        "id": "dvobWFwg64en",
        "outputId": "9e89f299-4fe9-466f-e24f-a11e748c4a3d"
      },
      "execution_count": null,
      "outputs": [
        {
          "output_type": "stream",
          "name": "stdout",
          "text": [
            "list of word : ['Hello,', 'this', 'is', 'my', 'laptop']\n"
          ]
        }
      ]
    },
    {
      "cell_type": "markdown",
      "source": [
        "44. Convert a list of words into a string."
      ],
      "metadata": {
        "id": "Md0o6sS778s8"
      }
    },
    {
      "cell_type": "code",
      "source": [
        "lst = ['hello', 'my','name','is ','pratap']\n",
        "\n",
        "convstring =\" \".join(lst)\n",
        "\n",
        "print(\"Converted list to string:\",convstring)"
      ],
      "metadata": {
        "colab": {
          "base_uri": "https://localhost:8080/"
        },
        "id": "o1o7EgLS7-B4",
        "outputId": "40edbc91-8de1-498d-fe9a-58b2ae5f5326"
      },
      "execution_count": null,
      "outputs": [
        {
          "output_type": "stream",
          "name": "stdout",
          "text": [
            "Converted list to string: hello my name is  pratap\n"
          ]
        }
      ]
    },
    {
      "cell_type": "markdown",
      "source": [
        "45. Create a list of the first n powers of 2."
      ],
      "metadata": {
        "id": "vfZh4cZl8t_7"
      }
    },
    {
      "cell_type": "code",
      "source": [
        "n = 7\n",
        "\n",
        "# Create a list of the first n powers of 2 using a loop\n",
        "power_list = [2 ** i for i in range(n)]\n",
        "\n",
        "print(\"List of the first\", n, \"powers of 2:\", power_list)"
      ],
      "metadata": {
        "colab": {
          "base_uri": "https://localhost:8080/"
        },
        "id": "OtFB2CTu8xJc",
        "outputId": "c987b7a3-d035-43e7-ab0c-86761b458921"
      },
      "execution_count": null,
      "outputs": [
        {
          "output_type": "stream",
          "name": "stdout",
          "text": [
            "List of the first 7 powers of 2: [1, 2, 4, 8, 16, 32, 64]\n"
          ]
        }
      ]
    },
    {
      "cell_type": "markdown",
      "source": [
        "46. Find the longest string in a list of strings."
      ],
      "metadata": {
        "id": "n2zciK3T8t8n"
      }
    },
    {
      "cell_type": "code",
      "source": [
        "lst =  [\"partap\",'Rushi','Ashish','Sachin','Abhishek']\n",
        "\n",
        "longest =\"\"\n",
        "\n",
        "for i in lst:\n",
        "\n",
        "  if len(i) > len(longest):\n",
        "    longest = i\n",
        "\n",
        "\n",
        "print(\"longest string in list :\",longest)\n"
      ],
      "metadata": {
        "colab": {
          "base_uri": "https://localhost:8080/"
        },
        "id": "DiE6zkk49lcm",
        "outputId": "bb9aa5df-9b07-4d24-f1af-326d801c4b7a"
      },
      "execution_count": null,
      "outputs": [
        {
          "output_type": "stream",
          "name": "stdout",
          "text": [
            "longest string in list : Abhishek\n"
          ]
        }
      ]
    },
    {
      "cell_type": "markdown",
      "source": [
        "47. Find the shortest string in a list of strings."
      ],
      "metadata": {
        "id": "LKPoA6sm-Zqb"
      }
    },
    {
      "cell_type": "code",
      "source": [
        "lst =  [\"partap\",'Rushi','Ashish','Sachin','Abhishek']\n",
        "\n",
        "shortest =lst[0]\n",
        "\n",
        "for i in lst:\n",
        "\n",
        "  if len(i) < len(shortest):\n",
        "    shortest = i\n",
        "\n",
        "\n",
        "print(\"shortest string in list :\",shortest)\n"
      ],
      "metadata": {
        "colab": {
          "base_uri": "https://localhost:8080/"
        },
        "id": "alal9zqo-ctn",
        "outputId": "c7c626d0-2588-4fd7-800e-2cbab4e92697"
      },
      "execution_count": null,
      "outputs": [
        {
          "output_type": "stream",
          "name": "stdout",
          "text": [
            "longest string in list : Rushi\n"
          ]
        }
      ]
    },
    {
      "cell_type": "markdown",
      "source": [
        "48. Create a list of the first n triangular numbers."
      ],
      "metadata": {
        "id": "SKkV9Ewg_jez"
      }
    },
    {
      "cell_type": "code",
      "source": [
        "# Function to calculate triangular numbers\n",
        "def triangular_numbers(n):\n",
        "    return [i * (i + 1) // 2 for i in range(1, n + 1)]\n",
        "\n",
        "# Specify the value of n\n",
        "n = 5\n",
        "\n",
        "# Create a list of the first n triangular numbers\n",
        "triangular_list = triangular_numbers(n)\n",
        "\n",
        "# Print the list of triangular numbers\n",
        "print(\"List of the first\", n, \"triangular numbers:\", triangular_list)"
      ],
      "metadata": {
        "colab": {
          "base_uri": "https://localhost:8080/"
        },
        "id": "_2g8nt_s_k5o",
        "outputId": "5223ddea-50b1-479e-bfc8-6201cd40d59f"
      },
      "execution_count": null,
      "outputs": [
        {
          "output_type": "stream",
          "name": "stdout",
          "text": [
            "List of the first 5 triangular numbers: [1, 3, 6, 10, 15]\n"
          ]
        }
      ]
    },
    {
      "cell_type": "markdown",
      "source": [
        "49. Check if a list contains another list as a subsequence."
      ],
      "metadata": {
        "id": "z0mo6H9j_4LB"
      }
    },
    {
      "cell_type": "code",
      "source": [
        "# Function to check if a list contains another list as a subsequence\n",
        "def is_subsequence(subsequence, main_list):\n",
        "    subseq_index = 0  # Index for the subsequence elements\n",
        "    for element in main_list:\n",
        "        if element == subsequence[subseq_index]:\n",
        "            subseq_index += 1\n",
        "            if subseq_index == len(subsequence):\n",
        "                return True\n",
        "    return False\n",
        "\n",
        "# Example main list and subsequence\n",
        "main_list = [1, 2, 3, 4, 5, 6, 7, 8, 9, 10]\n",
        "subsequence = [3, 5, 8]\n",
        "\n",
        "# Check if the main list contains the subsequence\n",
        "if is_subsequence(subsequence, main_list):\n",
        "    print(\"Main list contains the subsequence.\")\n",
        "else:\n",
        "    print(\"Main list does not contain the subsequence.\")"
      ],
      "metadata": {
        "colab": {
          "base_uri": "https://localhost:8080/"
        },
        "id": "Ja6L_zsWAT3B",
        "outputId": "09ba5e83-571c-42bd-ab69-56d452cc7727"
      },
      "execution_count": null,
      "outputs": [
        {
          "output_type": "stream",
          "name": "stdout",
          "text": [
            "Main list contains the subsequence.\n"
          ]
        }
      ]
    },
    {
      "cell_type": "markdown",
      "source": [
        "50. Swap two elements in a list by their indices."
      ],
      "metadata": {
        "id": "czdEJ4ICAYNk"
      }
    },
    {
      "cell_type": "code",
      "source": [
        "lst = [1,2,3,4,32,42,21]\n",
        "\n",
        "index1 = 1\n",
        "index2 = 3\n",
        "\n",
        "temp = lst[index1]\n",
        "lst[index1]=lst[index2]\n",
        "lst[index2]=temp\n",
        "\n",
        "print(\"list after swaping element :\",lst)"
      ],
      "metadata": {
        "colab": {
          "base_uri": "https://localhost:8080/"
        },
        "id": "7rySZDMuAen4",
        "outputId": "462c06a5-178b-4369-89e2-aee6d6a4267b"
      },
      "execution_count": null,
      "outputs": [
        {
          "output_type": "stream",
          "name": "stdout",
          "text": [
            "list after swaping element : [1, 4, 3, 2, 32, 42, 21]\n"
          ]
        }
      ]
    },
    {
      "cell_type": "markdown",
      "source": [
        "## **Tuple based practice problem :**\n"
      ],
      "metadata": {
        "id": "0YGCB8xhAYLW"
      }
    },
    {
      "cell_type": "markdown",
      "source": [
        "1. Create a tuple with integers from 1 to 5."
      ],
      "metadata": {
        "id": "ZQakr6qsNHwW"
      }
    },
    {
      "cell_type": "code",
      "source": [
        "tpl  = (10,20,30,50)\n",
        "\n",
        "print(tpl)"
      ],
      "metadata": {
        "colab": {
          "base_uri": "https://localhost:8080/"
        },
        "id": "P4-iB-96NN8H",
        "outputId": "be563bd1-6a3c-4c58-d1ee-6a11c7b4f0b2"
      },
      "execution_count": null,
      "outputs": [
        {
          "output_type": "stream",
          "name": "stdout",
          "text": [
            "(10, 20, 30, 50)\n"
          ]
        }
      ]
    },
    {
      "cell_type": "markdown",
      "source": [
        "2. Access the third element of a tuple"
      ],
      "metadata": {
        "id": "qzdt-_0VAYIU"
      }
    },
    {
      "cell_type": "code",
      "source": [
        "tpl = (10, 20, 30 ,40,39,98)\n",
        "\n",
        "tpl[2]\n",
        "\n",
        "print(\"This is third element of the tuple :\",tpl)"
      ],
      "metadata": {
        "colab": {
          "base_uri": "https://localhost:8080/"
        },
        "id": "V03dtPKMNq5G",
        "outputId": "164cdfba-9672-498e-abe3-0fa36b3ea1c4"
      },
      "execution_count": null,
      "outputs": [
        {
          "output_type": "stream",
          "name": "stdout",
          "text": [
            "This is third element of the tuple : (10, 20, 30, 40, 39, 98)\n"
          ]
        }
      ]
    },
    {
      "cell_type": "markdown",
      "source": [
        "3. Find the length of a tuple without using the len() function"
      ],
      "metadata": {
        "id": "M5SLqY2KO8Ru"
      }
    },
    {
      "cell_type": "code",
      "source": [
        "tpl = (10, 20, 30 ,40,39,98)\n",
        "\n",
        "count = 0\n",
        "\n",
        "for i in tpl:\n",
        "  count +=1\n",
        "\n",
        "print(count)"
      ],
      "metadata": {
        "colab": {
          "base_uri": "https://localhost:8080/"
        },
        "id": "MmdMHllDPE8a",
        "outputId": "f672204c-fb6e-4287-ba4b-789228ce142d"
      },
      "execution_count": null,
      "outputs": [
        {
          "output_type": "stream",
          "name": "stdout",
          "text": [
            "6\n"
          ]
        }
      ]
    },
    {
      "cell_type": "markdown",
      "source": [
        "4. Count the occurrences of an element in a tuple."
      ],
      "metadata": {
        "id": "orgWlFhKPs5V"
      }
    },
    {
      "cell_type": "code",
      "source": [
        "tpl = (10,20,30,40,50,40,60)\n",
        "\n",
        "element_count= 40\n",
        "\n",
        "count =0\n",
        "\n",
        "for i in tpl:\n",
        "  if i == element_count:\n",
        "    count +=1\n",
        "\n",
        "\n",
        "print(f\"The element {element_count} appears {count} times in the tuple.\")\n"
      ],
      "metadata": {
        "colab": {
          "base_uri": "https://localhost:8080/"
        },
        "id": "uO0fSYeMPxoQ",
        "outputId": "6d6d0267-3220-42f0-8906-d6e08c37b82d"
      },
      "execution_count": null,
      "outputs": [
        {
          "output_type": "stream",
          "name": "stdout",
          "text": [
            "The element 40 appears 2 times in the tuple.\n"
          ]
        }
      ]
    },
    {
      "cell_type": "markdown",
      "source": [
        "5. Find the index of the first occurrence of an element in a tuple.\n"
      ],
      "metadata": {
        "id": "ud8cSzl3RBo7"
      }
    },
    {
      "cell_type": "code",
      "source": [
        "tpl = (10, 20, 30 ,40,39,98)\n",
        "\n",
        "element_count = 40\n",
        "\n",
        "index= 0\n",
        "\n",
        "for i , item in enumerate (tpl):\n",
        "  if item == element_count:\n",
        "    index = i\n",
        "    break\n",
        "\n",
        "\n",
        "if index != -1:\n",
        "  print(f\"the first occurrence of {element_count} is at index {index}.\")\n",
        "else:\n",
        "  print(f\"{element_count} is not found in the tuple.\")"
      ],
      "metadata": {
        "colab": {
          "base_uri": "https://localhost:8080/"
        },
        "id": "4yYmyoq-RFcW",
        "outputId": "053c3847-7433-4100-c3ca-54536866576c"
      },
      "execution_count": null,
      "outputs": [
        {
          "output_type": "stream",
          "name": "stdout",
          "text": [
            "the first occurrence of 40 is at index 3.\n"
          ]
        }
      ]
    },
    {
      "cell_type": "markdown",
      "source": [
        "6. Check if an element exists in a tuple."
      ],
      "metadata": {
        "id": "52aAjkUNThAm"
      }
    },
    {
      "cell_type": "code",
      "source": [
        "tpl = (10,20,30,40,50,60)\n",
        "\n",
        "elementcheck = 50\n",
        "\n",
        "if elementcheck in tpl:\n",
        "\n",
        "  print(f\"{elementcheck} exists in tuple. \")\n",
        "else:\n",
        "  print(f\"{elementcheck} does not exists in tuple.\")"
      ],
      "metadata": {
        "id": "hpGLSb_pTnTG",
        "colab": {
          "base_uri": "https://localhost:8080/"
        },
        "outputId": "4bed4e6f-4035-484a-c7a1-248ee872a53a"
      },
      "execution_count": 2,
      "outputs": [
        {
          "output_type": "stream",
          "name": "stdout",
          "text": [
            "50 exists in tuple. \n"
          ]
        }
      ]
    },
    {
      "cell_type": "markdown",
      "source": [
        "7. Convert a tuple to a list"
      ],
      "metadata": {
        "id": "-AYS65Pjrnxi"
      }
    },
    {
      "cell_type": "code",
      "source": [
        "tpl = (10,20,30,40,50,60,77)\n",
        "\n",
        "\n",
        "lst= list(tpl)\n",
        "print(\"tuple: \",tpl)\n",
        "print(\"List: \",lst)\n",
        "\n"
      ],
      "metadata": {
        "colab": {
          "base_uri": "https://localhost:8080/"
        },
        "id": "tPZw6ieIraQ0",
        "outputId": "e67c8728-ee1a-4d8c-bfaf-ae5cab523851"
      },
      "execution_count": 4,
      "outputs": [
        {
          "output_type": "stream",
          "name": "stdout",
          "text": [
            "tuple:  (10, 20, 30, 40, 50, 60, 77)\n",
            "List:  [10, 20, 30, 40, 50, 60, 77]\n"
          ]
        }
      ]
    },
    {
      "cell_type": "markdown",
      "source": [
        "8. Convert a list to a tuple."
      ],
      "metadata": {
        "id": "_8R7YIYDs3J-"
      }
    },
    {
      "cell_type": "code",
      "source": [
        "lst =[10,20,30,40,50,60,77]\n",
        "\n",
        "tpl= tuple(lst)\n",
        "\n",
        "print(\"List : \",lst)\n",
        "print(\"Tuple : \",tpl)\n"
      ],
      "metadata": {
        "colab": {
          "base_uri": "https://localhost:8080/"
        },
        "id": "SrhZ8J4fs5jQ",
        "outputId": "7ff48921-c61a-48ae-dd82-df98435a6c2d"
      },
      "execution_count": 5,
      "outputs": [
        {
          "output_type": "stream",
          "name": "stdout",
          "text": [
            "List :  [10, 20, 30, 40, 50, 60, 77]\n",
            "Tuple :  (10, 20, 30, 40, 50, 60, 77)\n"
          ]
        }
      ]
    },
    {
      "cell_type": "markdown",
      "source": [
        "9. Unpack the elements of a tuple into variables."
      ],
      "metadata": {
        "id": "jmJ2npZwtS3g"
      }
    },
    {
      "cell_type": "code",
      "source": [
        "tpl = (10,20,30,40)\n",
        "\n",
        "var1, var2, var3, var4 = tpl\n",
        "\n",
        "print(\"var1 :\",var1)\n",
        "print(\"var2 :\",var2)\n",
        "print(\"var3 :\",var3)\n",
        "print(\"var4 :\",var4)"
      ],
      "metadata": {
        "colab": {
          "base_uri": "https://localhost:8080/"
        },
        "id": "uaPXqO9itZXu",
        "outputId": "d88aa7df-0f59-410a-a45c-a6292a16c5d3"
      },
      "execution_count": 7,
      "outputs": [
        {
          "output_type": "stream",
          "name": "stdout",
          "text": [
            "var1 : 10\n",
            "var2 : 20\n",
            "var3 : 30\n",
            "var4 : 40\n"
          ]
        }
      ]
    },
    {
      "cell_type": "markdown",
      "source": [
        "10. Create a tuple of even numbers from 1 to 10."
      ],
      "metadata": {
        "id": "na7XdvtmuLTD"
      }
    },
    {
      "cell_type": "code",
      "source": [
        "even_number_lst= [i for i in range(2,11,2)]\n",
        "\n",
        "con_tpl = tuple(even_number_lst)\n",
        "print(\"Tuple o feven number: \",con_tpl)"
      ],
      "metadata": {
        "colab": {
          "base_uri": "https://localhost:8080/"
        },
        "id": "ozuzLBrCuRng",
        "outputId": "296db218-e5f9-45bc-d0a2-1a1a627aca61"
      },
      "execution_count": 9,
      "outputs": [
        {
          "output_type": "stream",
          "name": "stdout",
          "text": [
            "Tuple o feven number:  (2, 4, 6, 8, 10)\n"
          ]
        }
      ]
    },
    {
      "cell_type": "markdown",
      "source": [
        "11. Create a tuple of odd numbers from 1 to 10."
      ],
      "metadata": {
        "id": "15YTBWBQvCeT"
      }
    },
    {
      "cell_type": "code",
      "source": [
        "odd_number_lst= [i for i in range(1,11,2)]\n",
        "\n",
        "con_tpl = tuple(odd_number_lst)\n",
        "print(\"Tuple o feven number: \",con_tpl)"
      ],
      "metadata": {
        "colab": {
          "base_uri": "https://localhost:8080/"
        },
        "id": "ENd7-LbwvAsL",
        "outputId": "78f1cd1f-a4ae-4997-f176-438f0e13716a"
      },
      "execution_count": 10,
      "outputs": [
        {
          "output_type": "stream",
          "name": "stdout",
          "text": [
            "Tuple o feven number:  (1, 3, 5, 7, 9)\n"
          ]
        }
      ]
    },
    {
      "cell_type": "markdown",
      "source": [
        "12. Concatenate two tuples."
      ],
      "metadata": {
        "id": "lWj6Ilp1vV62"
      }
    },
    {
      "cell_type": "code",
      "source": [
        "tpl1 =(10,20,30,40)\n",
        "\n",
        "tpl2 =(20,43,32,54,23)\n",
        "\n",
        "concat_tpl =tpl1+tpl2\n",
        "\n",
        "print(\"Concatenate two tuple :\",concat_tpl)\n",
        "\n"
      ],
      "metadata": {
        "colab": {
          "base_uri": "https://localhost:8080/"
        },
        "id": "s40bSP0yvZ_r",
        "outputId": "73368dec-aa1c-4dbe-b87c-4c45498f2cb8"
      },
      "execution_count": 11,
      "outputs": [
        {
          "output_type": "stream",
          "name": "stdout",
          "text": [
            "Concatenate two tuple : (10, 20, 30, 40, 20, 43, 32, 54, 23)\n"
          ]
        }
      ]
    },
    {
      "cell_type": "markdown",
      "source": [
        "13. Repeat a tuple three times"
      ],
      "metadata": {
        "id": "0OTuxHyzv_65"
      }
    },
    {
      "cell_type": "code",
      "source": [
        "tpl = (10,20,30,40,50)\n",
        "\n",
        "print(\"Repeat a tuple three time: \",tpl*3)"
      ],
      "metadata": {
        "id": "xKZpZkZYwWFt",
        "outputId": "dd9de98e-511f-4459-c287-698857071c21",
        "colab": {
          "base_uri": "https://localhost:8080/"
        }
      },
      "execution_count": 12,
      "outputs": [
        {
          "output_type": "stream",
          "name": "stdout",
          "text": [
            "Repeat a tuple three time:  (10, 20, 30, 40, 50, 10, 20, 30, 40, 50, 10, 20, 30, 40, 50)\n"
          ]
        }
      ]
    },
    {
      "cell_type": "markdown",
      "source": [
        "14. Check if a tuple is empty."
      ],
      "metadata": {
        "id": "fHhPAMVOwu-V"
      }
    },
    {
      "cell_type": "code",
      "source": [
        "tpl1 = ()\n",
        "\n",
        "tpl2 = (1,2,3,4,5,7)\n",
        "\n",
        "if not tpl1:\n",
        "  print(\"tpl1 is empty\")\n",
        "else:\n",
        "  print(\"tpl1 is not empty\")\n",
        "\n",
        "if not tpl2:\n",
        "  print(\"tpl2 is empty\")\n",
        "else:\n",
        "  print(\"tpl2 is not empty\")"
      ],
      "metadata": {
        "id": "chTUrvgdwykD",
        "outputId": "425d543b-a5db-43a5-e3d1-a1b4e20c17f3",
        "colab": {
          "base_uri": "https://localhost:8080/"
        }
      },
      "execution_count": 14,
      "outputs": [
        {
          "output_type": "stream",
          "name": "stdout",
          "text": [
            "tpl1 is empty\n",
            "tpl2 is not empty\n"
          ]
        }
      ]
    },
    {
      "cell_type": "markdown",
      "source": [
        "15. Create a nested tuple."
      ],
      "metadata": {
        "id": "BuZRx6fyx96m"
      }
    },
    {
      "cell_type": "code",
      "source": [
        "nested_tuple = ((1, 2, 3), ('a', 'b', 'c'), (True, False))\n",
        "\n",
        "print(nested_tuple)"
      ],
      "metadata": {
        "id": "-s3gHRC6yE1m",
        "outputId": "bb42416d-e8e5-4b1a-8b5b-61a1c0114c98",
        "colab": {
          "base_uri": "https://localhost:8080/"
        }
      },
      "execution_count": 15,
      "outputs": [
        {
          "output_type": "stream",
          "name": "stdout",
          "text": [
            "((1, 2, 3), ('a', 'b', 'c'), (True, False))\n"
          ]
        }
      ]
    },
    {
      "cell_type": "markdown",
      "source": [
        "16. Access the first element of a nested tuple."
      ],
      "metadata": {
        "id": "sK1QYcvC5b2F"
      }
    },
    {
      "cell_type": "code",
      "source": [
        "tpl = (1,2,3,4,5,6,32,21,10)\n",
        "\n",
        "first_element= tpl[0]\n",
        "\n",
        "print(\"first element of tuple: \",first_element)\n"
      ],
      "metadata": {
        "id": "gNNdjM3O5iGK",
        "outputId": "b0207e8f-f1e6-4320-a8cf-7fd86bf9d4ea",
        "colab": {
          "base_uri": "https://localhost:8080/"
        }
      },
      "execution_count": 16,
      "outputs": [
        {
          "output_type": "stream",
          "name": "stdout",
          "text": [
            "first element of tuple:  1\n"
          ]
        }
      ]
    },
    {
      "cell_type": "markdown",
      "source": [
        "17. Create a tuple with a single element."
      ],
      "metadata": {
        "id": "-dEIW9j26v3f"
      }
    },
    {
      "cell_type": "code",
      "source": [
        "tpl = (77,)\n",
        "\n",
        "print(\"single element tuple :\",tpl)"
      ],
      "metadata": {
        "id": "VjQDjUio6fj0",
        "outputId": "066dec75-629c-4c93-f54d-8f61b0e66772",
        "colab": {
          "base_uri": "https://localhost:8080/"
        }
      },
      "execution_count": 18,
      "outputs": [
        {
          "output_type": "stream",
          "name": "stdout",
          "text": [
            "single element tuple : (77,)\n"
          ]
        }
      ]
    },
    {
      "cell_type": "markdown",
      "source": [
        "18. Compare two tuples."
      ],
      "metadata": {
        "id": "JJX-Xg-G5byD"
      }
    },
    {
      "cell_type": "code",
      "source": [
        "tuple1 = (1, 2, 3)\n",
        "tuple2 = (1, 2, 4)\n",
        "\n",
        "# Step 2: Compare the two tuples using comparison operators\n",
        "print(\"tuple1 == tuple2:\", tuple1 == tuple2)  # Equality check\n",
        "print(\"tuple1 != tuple2:\", tuple1 != tuple2)  # Inequality check\n",
        "print(\"tuple1 < tuple2:\", tuple1 < tuple2)    # Less than check\n",
        "print(\"tuple1 <= tuple2:\", tuple1 <= tuple2)  # Less than or equal to check\n",
        "print(\"tuple1 > tuple2:\", tuple1 > tuple2)    # Greater than check\n",
        "print(\"tuple1 >= tuple2:\", tuple1 >= tuple2)  # Greater than or equal to check"
      ],
      "metadata": {
        "id": "sARS0_Kl7gr2",
        "outputId": "942ea314-f4bb-45e2-f96c-e040ec1d30a1",
        "colab": {
          "base_uri": "https://localhost:8080/"
        }
      },
      "execution_count": 19,
      "outputs": [
        {
          "output_type": "stream",
          "name": "stdout",
          "text": [
            "tuple1 == tuple2: False\n",
            "tuple1 != tuple2: True\n",
            "tuple1 < tuple2: True\n",
            "tuple1 <= tuple2: True\n",
            "tuple1 > tuple2: False\n",
            "tuple1 >= tuple2: False\n"
          ]
        }
      ]
    },
    {
      "cell_type": "markdown",
      "source": [
        "19. Delete a tuple."
      ],
      "metadata": {
        "id": "W4EqQBxI73x1"
      }
    },
    {
      "cell_type": "code",
      "source": [
        "tpl = (1,2,3,4,5)\n",
        "\n",
        "del tpl\n",
        "\n",
        "print(tpl)"
      ],
      "metadata": {
        "id": "Zro-xxqG78TJ",
        "outputId": "17f8299d-5ea6-4025-d9c0-a15718be2675",
        "colab": {
          "base_uri": "https://localhost:8080/",
          "height": 217
        }
      },
      "execution_count": 21,
      "outputs": [
        {
          "output_type": "error",
          "ename": "NameError",
          "evalue": "ignored",
          "traceback": [
            "\u001b[0;31m---------------------------------------------------------------------------\u001b[0m",
            "\u001b[0;31mNameError\u001b[0m                                 Traceback (most recent call last)",
            "\u001b[0;32m<ipython-input-21-da86452e684d>\u001b[0m in \u001b[0;36m<cell line: 5>\u001b[0;34m()\u001b[0m\n\u001b[1;32m      3\u001b[0m \u001b[0;32mdel\u001b[0m \u001b[0mtpl\u001b[0m\u001b[0;34m\u001b[0m\u001b[0;34m\u001b[0m\u001b[0m\n\u001b[1;32m      4\u001b[0m \u001b[0;34m\u001b[0m\u001b[0m\n\u001b[0;32m----> 5\u001b[0;31m \u001b[0mprint\u001b[0m\u001b[0;34m(\u001b[0m\u001b[0;34m\"tuple is deleted:\"\u001b[0m\u001b[0;34m,\u001b[0m\u001b[0mtpl\u001b[0m\u001b[0;34m)\u001b[0m\u001b[0;34m\u001b[0m\u001b[0;34m\u001b[0m\u001b[0m\n\u001b[0m",
            "\u001b[0;31mNameError\u001b[0m: name 'tpl' is not defined"
          ]
        }
      ]
    },
    {
      "cell_type": "markdown",
      "source": [
        "20. Slice a tuple."
      ],
      "metadata": {
        "id": "hCpuRCY493kN"
      }
    },
    {
      "cell_type": "code",
      "source": [
        "tpl = (1,2,3,4,5,22,33,44,23,42)\n",
        "\n",
        "slicing_tpl= tpl[2:7]\n",
        "\n",
        "print(\"After slicing tuple\",slicing_tpl)"
      ],
      "metadata": {
        "id": "Ns4Lb-2J-ExA",
        "outputId": "0b6c2bba-4c97-4473-95a9-ca915909e997",
        "colab": {
          "base_uri": "https://localhost:8080/"
        }
      },
      "execution_count": 23,
      "outputs": [
        {
          "output_type": "stream",
          "name": "stdout",
          "text": [
            "After slicing tuple (3, 4, 5, 22, 33)\n"
          ]
        }
      ]
    },
    {
      "cell_type": "markdown",
      "source": [
        "21. Find the maximum value in a tuple."
      ],
      "metadata": {
        "id": "P8YWsEZm-k-l"
      }
    },
    {
      "cell_type": "code",
      "source": [
        "tpl = (1,2,3,4,5,22,33,44,23,42)\n",
        "\n",
        "maximum = max(tpl)\n",
        "\n",
        "print(\"Maximum value of tuple: \",maximum)"
      ],
      "metadata": {
        "id": "Okk7aNUL-qYE",
        "outputId": "a0f38834-85f0-462e-ef2e-526fe9660ccb",
        "colab": {
          "base_uri": "https://localhost:8080/"
        }
      },
      "execution_count": 24,
      "outputs": [
        {
          "output_type": "stream",
          "name": "stdout",
          "text": [
            "Maximum value of tuple:  44\n"
          ]
        }
      ]
    },
    {
      "cell_type": "markdown",
      "source": [
        "22. Find the minimum value in a tuple."
      ],
      "metadata": {
        "id": "NQ8pSHCe_CK0"
      }
    },
    {
      "cell_type": "code",
      "source": [
        "tpl = (1,2,3,4,5,22,33,44,23,42)\n",
        "\n",
        "minimum = min(tpl)\n",
        "\n",
        "print(\"Minimum value in tuple: \",minimum)\n"
      ],
      "metadata": {
        "id": "SdGPQ9O3_F_E",
        "outputId": "fe732d32-a647-4f3a-8dbe-42ea0a6ac7e6",
        "colab": {
          "base_uri": "https://localhost:8080/"
        }
      },
      "execution_count": 25,
      "outputs": [
        {
          "output_type": "stream",
          "name": "stdout",
          "text": [
            "Minimum value in tuple:  1\n"
          ]
        }
      ]
    },
    {
      "cell_type": "markdown",
      "source": [
        "23. Convert a string to a tuple of characters."
      ],
      "metadata": {
        "id": "zitayYsw_WhO"
      }
    },
    {
      "cell_type": "code",
      "source": [
        "stri = \"Hello\"\n",
        "\n",
        "convert_tuple=tuple(stri)\n",
        "\n",
        "print(\"convert string to tuple: \",convert_tuple)"
      ],
      "metadata": {
        "id": "ZDVI2vPV_ikk",
        "outputId": "48fb4682-d4f0-4b48-e0f0-364c15ec1532",
        "colab": {
          "base_uri": "https://localhost:8080/"
        }
      },
      "execution_count": 26,
      "outputs": [
        {
          "output_type": "stream",
          "name": "stdout",
          "text": [
            "convert string to tuple:  ('H', 'e', 'l', 'l', 'o')\n"
          ]
        }
      ]
    },
    {
      "cell_type": "markdown",
      "source": [
        "24. Convert a tuple of characters to a string."
      ],
      "metadata": {
        "id": "KxW_jZwsAKTj"
      }
    },
    {
      "cell_type": "code",
      "source": [
        "tpl = ('H', 'e', 'l', 'l', 'o')\n",
        "\n",
        "conv_str = ''.join(tpl)\n",
        "\n",
        "print(\"string to tuple:\",conv_str)"
      ],
      "metadata": {
        "id": "dAz4PB_uAPEY",
        "outputId": "5cafe1f9-65f4-48cf-8095-fd147cc81df5",
        "colab": {
          "base_uri": "https://localhost:8080/"
        }
      },
      "execution_count": 27,
      "outputs": [
        {
          "output_type": "stream",
          "name": "stdout",
          "text": [
            "string to tuple: Hello\n"
          ]
        }
      ]
    },
    {
      "cell_type": "markdown",
      "source": [
        "25. Create a tuple from multiple data types."
      ],
      "metadata": {
        "id": "It0Zxyy1Azok"
      }
    },
    {
      "cell_type": "code",
      "source": [
        "tpl = (1,27,\"hii\",True,7.7)\n",
        "\n",
        "print(\"multiple datatype in single tuple: \",tpl)\n"
      ],
      "metadata": {
        "id": "T-15D8jKA4uk",
        "outputId": "1ac4dee8-374b-4de9-a57c-7845f271ef9a",
        "colab": {
          "base_uri": "https://localhost:8080/"
        }
      },
      "execution_count": 28,
      "outputs": [
        {
          "output_type": "stream",
          "name": "stdout",
          "text": [
            "multiple datatype in single tuple:  (1, 27, 'hii', True, 7.7)\n"
          ]
        }
      ]
    },
    {
      "cell_type": "markdown",
      "source": [
        "26. Check if two tuples are identical."
      ],
      "metadata": {
        "id": "QpZd54GQBUgg"
      }
    },
    {
      "cell_type": "code",
      "source": [
        "tpl1 = (1, 2, 3)\n",
        "tpl2 = (1, 2, 3)\n",
        "tpl3 = (4, 5, 6)\n",
        "\n",
        "if tpl1 == tpl2:\n",
        "  print(\"Tuple one and two are identical \")\n",
        "else:\n",
        "  print(\"tuple one and two are dose not identical\")\n",
        "if tpl2 == tpl3:\n",
        "  print(\"tuple two and three are identical \")\n",
        "else:\n",
        "  print(\"tuple two and three are does not identical\")"
      ],
      "metadata": {
        "id": "1_REjf35BcIZ",
        "outputId": "3aabe33d-c8cc-4f1d-db00-52873f117363",
        "colab": {
          "base_uri": "https://localhost:8080/"
        }
      },
      "execution_count": 1,
      "outputs": [
        {
          "output_type": "stream",
          "name": "stdout",
          "text": [
            "Tuple one and two are identical \n",
            "tuple two and three are does not identical\n"
          ]
        }
      ]
    },
    {
      "cell_type": "markdown",
      "source": [
        "27. Sort the elements of a tuple."
      ],
      "metadata": {
        "id": "OYp7enLWSWnn"
      }
    },
    {
      "cell_type": "code",
      "source": [
        "tpl = (1,34,56,23,64,42,53,34)\n",
        "\n",
        "sorted = tuple(sorted(tpl))\n",
        "\n",
        "print(sorted)"
      ],
      "metadata": {
        "id": "MKD2CvwHSZlb",
        "outputId": "52543af7-9ff9-4992-893f-918ade953c02",
        "colab": {
          "base_uri": "https://localhost:8080/"
        }
      },
      "execution_count": 3,
      "outputs": [
        {
          "output_type": "stream",
          "name": "stdout",
          "text": [
            "(1, 23, 34, 34, 42, 53, 56, 64)\n"
          ]
        }
      ]
    },
    {
      "cell_type": "markdown",
      "source": [
        "28. Convert a tuple of integers to a tuple of strings."
      ],
      "metadata": {
        "id": "LP-HRKDLTA1X"
      }
    },
    {
      "cell_type": "code",
      "source": [
        "tpl = (1,34,56,23,64,42,53,34)\n",
        "\n",
        "tpl_of_str = tuple(str(item) for item in tpl)\n",
        "\n",
        "print(\"Tuple of string :\",tpl_of_str)"
      ],
      "metadata": {
        "id": "7wX3xXweTGGV",
        "outputId": "90e7aa62-bec9-42f8-c131-383cf2e38222",
        "colab": {
          "base_uri": "https://localhost:8080/"
        }
      },
      "execution_count": 7,
      "outputs": [
        {
          "output_type": "stream",
          "name": "stdout",
          "text": [
            "Tuple of string : ('1', '34', '56', '23', '64', '42', '53', '34')\n"
          ]
        }
      ]
    },
    {
      "cell_type": "markdown",
      "source": [
        "29. Convert a tuple of strings to a tuple of integers."
      ],
      "metadata": {
        "id": "RDwH0Uz2Tqsr"
      }
    },
    {
      "cell_type": "code",
      "source": [
        "tpl= ('1', '34', '56', '23', '64', '42', '53', '34')\n",
        "\n",
        "tpl_of_int= tuple(int(item) for item in tpl)\n",
        "\n",
        "print(\"Tuple of integer :\",tpl_of_int)"
      ],
      "metadata": {
        "id": "H6ICkRGATu1k",
        "outputId": "df785648-9dba-4cd3-d2fe-2425d6d30bda",
        "colab": {
          "base_uri": "https://localhost:8080/"
        }
      },
      "execution_count": 5,
      "outputs": [
        {
          "output_type": "stream",
          "name": "stdout",
          "text": [
            "Tuple of integer : (1, 34, 56, 23, 64, 42, 53, 34)\n"
          ]
        }
      ]
    },
    {
      "cell_type": "markdown",
      "source": [
        "30. Merge two tuples."
      ],
      "metadata": {
        "id": "tpSIEDRYUe9C"
      }
    },
    {
      "cell_type": "code",
      "source": [
        "tpl1 = (10,20,30)\n",
        "tpl2 = (33,22,44)\n",
        "\n",
        "merge = tpl1 + tpl2\n",
        "\n",
        "print(\"merge two tuple:\",merge)"
      ],
      "metadata": {
        "id": "nOrigcl1Ui7F",
        "outputId": "cf7b37a3-c72c-4593-d393-5d73724b23df",
        "colab": {
          "base_uri": "https://localhost:8080/"
        }
      },
      "execution_count": 8,
      "outputs": [
        {
          "output_type": "stream",
          "name": "stdout",
          "text": [
            "merge two tuple: (10, 20, 30, 33, 22, 44)\n"
          ]
        }
      ]
    },
    {
      "cell_type": "markdown",
      "source": [
        "31. Flatten a nested tuple."
      ],
      "metadata": {
        "id": "JIJOEClGVP8n"
      }
    },
    {
      "cell_type": "code",
      "source": [
        "def flatten_tuple(nested_tuple):\n",
        "    flattened = []\n",
        "    for item in nested_tuple:\n",
        "        if isinstance(item, tuple):\n",
        "            flattened.extend(flatten_tuple(item))\n",
        "        else:\n",
        "            flattened.append(item)\n",
        "    return flattened\n",
        "\n",
        "# Step 1: Create a nested tuple\n",
        "nested_tuple = ((1, 2), (3, 4, 5), (6, (7, 8)))\n",
        "\n",
        "# Step 2: Flatten the nested tuple\n",
        "flattened_tuple = tuple(flatten_tuple(nested_tuple))\n",
        "\n",
        "# Step 3: Print the flattened tuple\n",
        "print(\"Flattened tuple:\", flattened_tuple)"
      ],
      "metadata": {
        "id": "tEd3KP0KjI66",
        "outputId": "4d642986-b0ed-462d-a0e3-65ed8a8baa10",
        "colab": {
          "base_uri": "https://localhost:8080/"
        }
      },
      "execution_count": 1,
      "outputs": [
        {
          "output_type": "stream",
          "name": "stdout",
          "text": [
            "Flattened tuple: (1, 2, 3, 4, 5, 6, 7, 8)\n"
          ]
        }
      ]
    },
    {
      "cell_type": "markdown",
      "source": [
        "32. Create a tuple of the first 5 prime numbers."
      ],
      "metadata": {
        "id": "YDsGPtlSkIGt"
      }
    },
    {
      "cell_type": "code",
      "source": [
        "def is_prime(num):\n",
        "  if num <= 1:\n",
        "    return False\n",
        "  for i in range(2, int(num ** 0.5) + 1):\n",
        "    if num % i==0:\n",
        "      return False\n",
        "\n",
        "  return True\n",
        "\n",
        "prime_num = [num for num in range(2,100) if is_prime(num)][:5]\n",
        "\n",
        "prime_num_tpl = tuple(prime_num)\n",
        "\n",
        "\n",
        "print(\"tuple of the first 5 prime numbers :\",prime_num_tpl)"
      ],
      "metadata": {
        "id": "vZ8kM1FUkHkY",
        "outputId": "15780ab4-bd9d-4266-d0ec-edf4ca065204",
        "colab": {
          "base_uri": "https://localhost:8080/"
        }
      },
      "execution_count": 2,
      "outputs": [
        {
          "output_type": "stream",
          "name": "stdout",
          "text": [
            "tuple of the first 5 prime numbers : (2, 3, 5, 7, 11)\n"
          ]
        }
      ]
    },
    {
      "cell_type": "markdown",
      "source": [
        "33. Check if a tuple is a palindrome."
      ],
      "metadata": {
        "id": "De7-ptB1nTAd"
      }
    },
    {
      "cell_type": "code",
      "source": [
        "\n",
        "tpl = (1,2,3,2,1)\n",
        "\n",
        "rev = tpl[::-1]\n",
        "\n",
        "if tpl == rev:\n",
        "  print (\"tuple is palindrome\",tpl)\n",
        "else:\n",
        "  print(\"tuple is not palindrome\",tpl)\n",
        "\n"
      ],
      "metadata": {
        "id": "hSTxQ-c6nfBf",
        "outputId": "1afd60fd-7ef7-418f-fc47-97600b5864d9",
        "colab": {
          "base_uri": "https://localhost:8080/"
        }
      },
      "execution_count": 5,
      "outputs": [
        {
          "output_type": "stream",
          "name": "stdout",
          "text": [
            "tuple is palindrome (1, 2, 3, 2, 1)\n"
          ]
        }
      ]
    },
    {
      "cell_type": "markdown",
      "source": [
        "34. Create a tuple of squares of numbers from 1 to 5."
      ],
      "metadata": {
        "id": "6nIIWX6Xq0YP"
      }
    },
    {
      "cell_type": "code",
      "source": [
        "square_tpl = tuple(i ** 2  for i in range(1,6))\n",
        "\n",
        "print(\"tuple of Square\",square_tpl)"
      ],
      "metadata": {
        "id": "DnwPQ7rZq5FB",
        "outputId": "932a1572-4e58-4b3a-b8a1-4bf2686c2a82",
        "colab": {
          "base_uri": "https://localhost:8080/"
        }
      },
      "execution_count": 7,
      "outputs": [
        {
          "output_type": "stream",
          "name": "stdout",
          "text": [
            "tuple of Square (1, 4, 9, 16, 25)\n"
          ]
        }
      ]
    },
    {
      "cell_type": "markdown",
      "source": [
        "35. Filter out all even numbers from a tuple."
      ],
      "metadata": {
        "id": "gSnKOEtvrhiH"
      }
    },
    {
      "cell_type": "code",
      "source": [
        "tpl = (1,2,3,4,5,6,8,44,33,22)\n",
        "\n",
        "even_num = tuple( i for i in tpl if i % 2 ==0)\n",
        "\n",
        "print (\"filtered all even num in tuple :\",even_num)"
      ],
      "metadata": {
        "id": "X6biSTnZrmoh",
        "outputId": "da6f5751-89eb-4ea2-ff6b-76be7c0bb8cf",
        "colab": {
          "base_uri": "https://localhost:8080/"
        }
      },
      "execution_count": 9,
      "outputs": [
        {
          "output_type": "stream",
          "name": "stdout",
          "text": [
            "filtered all even num in tuple : (2, 4, 6, 8, 44, 22)\n"
          ]
        }
      ]
    },
    {
      "cell_type": "markdown",
      "source": [
        "36. Multiply all elements in a tuple by 2."
      ],
      "metadata": {
        "id": "Jrf9a07dtKE5"
      }
    },
    {
      "cell_type": "code",
      "source": [
        "tpl =(1,2,3,4,5,6,7)\n",
        "\n",
        "multiply_tpl = tuple (i**2 for i in tpl)\n",
        "\n",
        "print(\"multiply all element:\",multiply_tpl)"
      ],
      "metadata": {
        "id": "7dwaSAMYtNIX",
        "outputId": "e37cc385-b541-4d07-e012-088345d153ee",
        "colab": {
          "base_uri": "https://localhost:8080/"
        }
      },
      "execution_count": 10,
      "outputs": [
        {
          "output_type": "stream",
          "name": "stdout",
          "text": [
            "multiply all element: (1, 4, 9, 16, 25, 36, 49)\n"
          ]
        }
      ]
    },
    {
      "cell_type": "markdown",
      "source": [
        "37. Create a tuple of random numbers."
      ],
      "metadata": {
        "id": "EILtPEk-twg1"
      }
    },
    {
      "cell_type": "code",
      "source": [
        "import random\n",
        "\n",
        "random_tpl = tuple ( random.randint(1,50) for i in range(10))\n",
        "\n",
        "print(\"Random tuple : \" , random_tpl)"
      ],
      "metadata": {
        "id": "PX540ZFet0qq",
        "outputId": "b5ceb7c1-4f23-4e85-99c0-0f933e830d3d",
        "colab": {
          "base_uri": "https://localhost:8080/"
        }
      },
      "execution_count": 13,
      "outputs": [
        {
          "output_type": "stream",
          "name": "stdout",
          "text": [
            "Random tuple :  (44, 11, 21, 17, 22, 26, 10, 37, 11, 27)\n"
          ]
        }
      ]
    },
    {
      "cell_type": "markdown",
      "source": [
        "38. Check if a tuple is sorted."
      ],
      "metadata": {
        "id": "PSgjt4BHvree"
      }
    },
    {
      "cell_type": "code",
      "source": [
        "# Function to check if a tuple is sorted\n",
        "def is_sorted(tup):\n",
        "    for i in range(len(tup) - 1):\n",
        "        if tup[i] > tup[i + 1]:\n",
        "            return False\n",
        "    return True\n",
        "\n",
        "# Create tuples for testing\n",
        "sorted_tuple = (1, 2, 3, 4, 5)\n",
        "unsorted_tuple = (5, 3, 1, 4, 2)\n",
        "\n",
        "# Check if the tuples are sorted\n",
        "is_sorted1 = is_sorted(sorted_tuple)\n",
        "is_sorted2 = is_sorted(unsorted_tuple)\n",
        "\n",
        "# Print the results\n",
        "print(\"sorted_tuple is sorted:\", is_sorted1)\n",
        "print(\"unsorted_tuple is sorted:\", is_sorted2)"
      ],
      "metadata": {
        "id": "l7lN3ncjvve6",
        "outputId": "4dbc15ba-56cb-471c-b302-465b95575d87",
        "colab": {
          "base_uri": "https://localhost:8080/"
        }
      },
      "execution_count": 16,
      "outputs": [
        {
          "output_type": "stream",
          "name": "stdout",
          "text": [
            "sorted_tuple is sorted: True\n",
            "unsorted_tuple is sorted: False\n"
          ]
        }
      ]
    },
    {
      "cell_type": "markdown",
      "source": [
        "39. Rotate a tuple to the left by n positions"
      ],
      "metadata": {
        "id": "8K_kEArM7FeF"
      }
    },
    {
      "cell_type": "code",
      "source": [
        "def rotate_tuple_left(tup, n):\n",
        "    n = n % len(tup)  # Ensure n is within the range of tuple length\n",
        "    rotated_tuple = tup[n:] + tup[:n]  # Rotate the tuple\n",
        "    return rotated_tuple\n",
        "\n",
        "# Example tuple\n",
        "my_tuple = (1, 2, 3, 4, 5)\n",
        "n_positions = 2\n",
        "result = rotate_tuple_left(my_tuple, n_positions)\n",
        "print(result)"
      ],
      "metadata": {
        "id": "7KUsrwK-7JR9",
        "outputId": "ce77fe14-3cf6-4184-d3de-ea86307ec439",
        "colab": {
          "base_uri": "https://localhost:8080/"
        }
      },
      "execution_count": 17,
      "outputs": [
        {
          "output_type": "stream",
          "name": "stdout",
          "text": [
            "(3, 4, 5, 1, 2)\n"
          ]
        }
      ]
    },
    {
      "cell_type": "markdown",
      "source": [
        "40. Rotate a tuple to the right by n positions."
      ],
      "metadata": {
        "id": "9FrctZXQ7SEw"
      }
    },
    {
      "cell_type": "code",
      "source": [
        "def rotate_tuple_right(tup, n):\n",
        "    n = n % len(tup)  # Ensure n is within the range of tuple length\n",
        "    rotated_tuple = tup[-n:] + tup[:-n]  # Rotate the tuple\n",
        "    return rotated_tuple\n",
        "\n",
        "# Example tuple\n",
        "my_tuple = (1, 2, 3, 4, 5)\n",
        "n_positions = 2\n",
        "result = rotate_tuple_right(my_tuple, n_positions)\n",
        "print(result)"
      ],
      "metadata": {
        "id": "9ArPdJOf7Twy",
        "outputId": "620ab7f1-afba-4b99-8d86-f5700be3e338",
        "colab": {
          "base_uri": "https://localhost:8080/"
        }
      },
      "execution_count": 18,
      "outputs": [
        {
          "output_type": "stream",
          "name": "stdout",
          "text": [
            "(4, 5, 1, 2, 3)\n"
          ]
        }
      ]
    },
    {
      "cell_type": "markdown",
      "source": [
        "41. Create a tuple of the first 5 Fibonacci numbers."
      ],
      "metadata": {
        "id": "lMsnGxqe7dP7"
      }
    },
    {
      "cell_type": "code",
      "source": [
        "def generate_fibonacci(n):\n",
        "    fibonacci = [0, 1]  # Initialize the list with the first two Fibonacci numbers\n",
        "    while len(fibonacci) < n:  # Continue generating Fibonacci numbers until the list has n elements\n",
        "        next_number = fibonacci[-1] + fibonacci[-2]  # Calculate the next Fibonacci number\n",
        "        fibonacci.append(next_number)  # Add the next Fibonacci number to the list\n",
        "    return tuple(fibonacci)  # Convert the list to a tuple and return it\n",
        "\n",
        "# Call the generate_fibonacci function to create a tuple of the first 5 Fibonacci numbers\n",
        "fibonacci_tuple = generate_fibonacci(5)\n",
        "\n",
        "# Print the resulting tuple\n",
        "print(fibonacci_tuple)"
      ],
      "metadata": {
        "id": "3dIHb4DN7oxb",
        "outputId": "08dfd8e8-59bf-4ff9-b8f9-bc4d7e8575cc",
        "colab": {
          "base_uri": "https://localhost:8080/"
        }
      },
      "execution_count": 19,
      "outputs": [
        {
          "output_type": "stream",
          "name": "stdout",
          "text": [
            "(0, 1, 1, 2, 3)\n"
          ]
        }
      ]
    },
    {
      "cell_type": "markdown",
      "source": [
        "42. Create a tuple from user input."
      ],
      "metadata": {
        "id": "Vb2aZHlB7qyH"
      }
    },
    {
      "cell_type": "code",
      "source": [
        "input_str = input(\"Enter element :\")\n",
        "\n",
        "input_list = input_str.split(' ,')\n",
        "\n",
        "user_tuple = tuple (input_list)\n",
        "\n",
        "print(\"user input tuple :\",user_tuple)"
      ],
      "metadata": {
        "id": "44KOd6ia7x0-",
        "outputId": "6979357a-79e9-4b74-e8ca-0800ce43fe58",
        "colab": {
          "base_uri": "https://localhost:8080/"
        }
      },
      "execution_count": 21,
      "outputs": [
        {
          "output_type": "stream",
          "name": "stdout",
          "text": [
            "Enter element :1,2,3,4,5,6,7\n",
            "user input tuple : ('1,2,3,4,5,6,7',)\n"
          ]
        }
      ]
    },
    {
      "cell_type": "markdown",
      "source": [
        "43. Swap two elements in a tuple"
      ],
      "metadata": {
        "id": "RaV0upfzTZdm"
      }
    },
    {
      "cell_type": "code",
      "source": [
        "tpl = (1,2,3,4,5,6,7)\n",
        "\n",
        "index1 = 2\n",
        "\n",
        "index2 = 5\n",
        "\n",
        "swap_tuple = tuple(\n",
        "    tpl[i] if i not in (index1, index2) else\n",
        "    tpl[index2] if i == index1 else\n",
        "    tpl[index1]\n",
        "    for i in range (len(tpl))\n",
        ")\n",
        "\n",
        "print(\"Swapped tuple : \",swap_tuple)\n"
      ],
      "metadata": {
        "id": "KbjeFzR9Tg99",
        "outputId": "ef60625a-d18c-4f5b-bb09-1bf5a6fd908c",
        "colab": {
          "base_uri": "https://localhost:8080/"
        }
      },
      "execution_count": 1,
      "outputs": [
        {
          "output_type": "stream",
          "name": "stdout",
          "text": [
            "Swapped tuple :  (1, 2, 6, 4, 5, 3, 7)\n"
          ]
        }
      ]
    },
    {
      "cell_type": "markdown",
      "source": [
        "44. Reverse the elements of a tuple."
      ],
      "metadata": {
        "id": "vJjtwBH2X3vF"
      }
    },
    {
      "cell_type": "code",
      "source": [
        "tpl = (1, 2, 3, 4, 5, 6, 7)\n",
        "\n",
        "reverse = tpl[::-1]\n",
        "\n",
        "print(\"Reverse tuple :\",reverse)"
      ],
      "metadata": {
        "id": "9cWEPRvqX88O",
        "outputId": "d2d5eac4-4a82-4032-e7ee-3326a3cf0323",
        "colab": {
          "base_uri": "https://localhost:8080/"
        }
      },
      "execution_count": 2,
      "outputs": [
        {
          "output_type": "stream",
          "name": "stdout",
          "text": [
            "Reverse tuple : (7, 6, 5, 4, 3, 2, 1)\n"
          ]
        }
      ]
    },
    {
      "cell_type": "markdown",
      "source": [
        "45. Create a tuple of the first n powers of 2."
      ],
      "metadata": {
        "id": "XvFIfijyTZaP"
      }
    },
    {
      "cell_type": "code",
      "source": [
        "n = 7\n",
        "\n",
        "power_tpl = tuple(2** i for i in range (n))\n",
        "\n",
        "print(f\"Tuple of the first {n} power of 2: {power_tpl}\")"
      ],
      "metadata": {
        "id": "62X9FUnfYszJ",
        "outputId": "507d74d1-4428-436a-a9f7-5b7985b70cd4",
        "colab": {
          "base_uri": "https://localhost:8080/"
        }
      },
      "execution_count": 3,
      "outputs": [
        {
          "output_type": "stream",
          "name": "stdout",
          "text": [
            "Tuple of the first 7 power of 2: (1, 2, 4, 8, 16, 32, 64)\n"
          ]
        }
      ]
    },
    {
      "cell_type": "markdown",
      "source": [
        "46. Find the longest string in a tuple of strings."
      ],
      "metadata": {
        "id": "AswhCTF0abhB"
      }
    },
    {
      "cell_type": "code",
      "source": [
        "str_tpl = (\"partap\",'Rushi','Ashish','Sachin')\n",
        "\n",
        "longest_str = max(str_tpl, key=len)\n",
        "\n",
        "\n",
        "print(\"Longest string :\",longest_str)\n"
      ],
      "metadata": {
        "id": "diDtH1Xdaeid",
        "outputId": "d1d42be9-1b7b-4d59-d8b2-1dadccdcd0d5",
        "colab": {
          "base_uri": "https://localhost:8080/"
        }
      },
      "execution_count": 4,
      "outputs": [
        {
          "output_type": "stream",
          "name": "stdout",
          "text": [
            "Longest string : partap\n"
          ]
        }
      ]
    },
    {
      "cell_type": "markdown",
      "source": [
        "47. Find the shortest string in a tuple of strings."
      ],
      "metadata": {
        "id": "hyoDqgLcbtC_"
      }
    },
    {
      "cell_type": "code",
      "source": [
        "str_tpl = (\"partap\",'Rushi','Ashish','Sachin')\n",
        "\n",
        "\n",
        "shortest_str = min(str_tpl, key=len)\n",
        "\n",
        "print(\"shortest string in tuple : \",shortest_str)\n"
      ],
      "metadata": {
        "id": "4gY4N5fEbxz2",
        "outputId": "ccf67151-a10d-4385-ed1f-9816fbc7a9c4",
        "colab": {
          "base_uri": "https://localhost:8080/"
        }
      },
      "execution_count": 6,
      "outputs": [
        {
          "output_type": "stream",
          "name": "stdout",
          "text": [
            "shortest string in tuple :  Rushi\n"
          ]
        }
      ]
    },
    {
      "cell_type": "markdown",
      "source": [
        "48. Create a tuple of the first n triangular numbers."
      ],
      "metadata": {
        "id": "Revegnz1fGJw"
      }
    },
    {
      "cell_type": "code",
      "source": [
        "n = 7\n",
        "\n",
        "tringular_num_tpl = tuple((i * (i+1)) //2 for i  in range (1, n+1))\n",
        "\n",
        "print(f\"tuple of the firat {n} tringular number : \",tringular_num_tpl)\n"
      ],
      "metadata": {
        "id": "NGFzBqUlfH6e",
        "outputId": "6675e832-de98-4136-c65b-2e5b9a03cff1",
        "colab": {
          "base_uri": "https://localhost:8080/"
        }
      },
      "execution_count": 8,
      "outputs": [
        {
          "output_type": "stream",
          "name": "stdout",
          "text": [
            "tuple of the firat 7 tringular number :  (1, 3, 6, 10, 15, 21, 28)\n"
          ]
        }
      ]
    },
    {
      "cell_type": "markdown",
      "source": [
        "49. Check if a tuple contains another tuple as a subsequence."
      ],
      "metadata": {
        "id": "pV0bUHxxgQsj"
      }
    },
    {
      "cell_type": "code",
      "source": [
        "tpl = (1,2,3,4,5,6,7,8,9)\n",
        "\n",
        "tpl2 = (4,5,6,7)\n",
        "\n",
        "def contains_sub(tpl,tpl2):\n",
        "  for i in tpl:\n",
        "    if i in tpl2:\n",
        "      return True\n",
        "\n",
        "  return False\n",
        "\n",
        "check = contains_sub(tpl,tpl2)\n",
        "\n",
        "print(\"main tuple contain subsequency\")\n",
        ""
      ],
      "metadata": {
        "id": "og9oyF0QgSnx",
        "outputId": "e68e0d13-a41f-4f9b-ecf3-e2649313fca7",
        "colab": {
          "base_uri": "https://localhost:8080/"
        }
      },
      "execution_count": 11,
      "outputs": [
        {
          "output_type": "stream",
          "name": "stdout",
          "text": [
            "main tuple contain subsequency\n"
          ]
        }
      ]
    },
    {
      "cell_type": "markdown",
      "source": [
        "50. Create a tuple of alternating 1s and 0s of length n."
      ],
      "metadata": {
        "id": "XdXQqPsekniv"
      }
    },
    {
      "cell_type": "code",
      "source": [
        "n =10\n",
        "\n",
        "alternate_tpl = tuple(i % 2 for i in range(n))\n",
        "\n",
        "print( \"Tuple of alternating 1s and 0s:\",alternate_tpl)"
      ],
      "metadata": {
        "id": "dMrNwA9fkr4Q",
        "outputId": "957dd53e-d989-40bd-d8eb-6a7dc50e130d",
        "colab": {
          "base_uri": "https://localhost:8080/"
        }
      },
      "execution_count": 12,
      "outputs": [
        {
          "output_type": "stream",
          "name": "stdout",
          "text": [
            "Tuple of alternating 1s and 0s: (0, 1, 0, 1, 0, 1, 0, 1, 0, 1)\n"
          ]
        }
      ]
    },
    {
      "cell_type": "markdown",
      "source": [
        "## **Set based problems:**\n",
        "\n"
      ],
      "metadata": {
        "id": "kEmJ7dnqlfu1"
      }
    },
    {
      "cell_type": "markdown",
      "source": [
        "1. Create a set with integers from 1 to 5."
      ],
      "metadata": {
        "id": "VRP1ERnslscD"
      }
    },
    {
      "cell_type": "code",
      "source": [
        "my_set = set(i for i in range(1,6))\n",
        "print(my_set)"
      ],
      "metadata": {
        "id": "s4pHGhMmlp4F",
        "outputId": "74103d92-4fe2-4745-9eb1-20dccf557693",
        "colab": {
          "base_uri": "https://localhost:8080/"
        }
      },
      "execution_count": 15,
      "outputs": [
        {
          "output_type": "stream",
          "name": "stdout",
          "text": [
            "{1, 2, 3, 4, 5}\n"
          ]
        }
      ]
    },
    {
      "cell_type": "markdown",
      "source": [
        "2. Add an element to a set"
      ],
      "metadata": {
        "id": "qleUK5HkmT0O"
      }
    },
    {
      "cell_type": "code",
      "source": [
        "my_set ={1, 2, 3, 4, 5}\n",
        "\n",
        "print(\"Original set: \",my_set)\n",
        "\n",
        "my_set.add(7)\n",
        "print(\"Set after adding element: \",my_set)"
      ],
      "metadata": {
        "id": "fIJ5c8YdmWwY",
        "outputId": "9c1e9bb3-6404-4f49-a2de-90d8285badd6",
        "colab": {
          "base_uri": "https://localhost:8080/"
        }
      },
      "execution_count": 17,
      "outputs": [
        {
          "output_type": "stream",
          "name": "stdout",
          "text": [
            "Original set:  {1, 2, 3, 4, 5}\n",
            "Set after adding element:  {1, 2, 3, 4, 5, 7}\n"
          ]
        }
      ]
    },
    {
      "cell_type": "markdown",
      "source": [
        "3. Remove an element from a set."
      ],
      "metadata": {
        "id": "Ii7bBycRnWl9"
      }
    },
    {
      "cell_type": "code",
      "source": [
        "my_set ={1, 2, 3, 4, 5}\n",
        "\n",
        "print(\"Oringinal set:\",my_set)\n",
        "\n",
        "my_set.remove(3)\n",
        "\n",
        "print(\"After removing the element: \",my_set)"
      ],
      "metadata": {
        "id": "KwKpnvpDnZ5P",
        "outputId": "46a1e3ef-9321-4a7f-8086-4d7394096792",
        "colab": {
          "base_uri": "https://localhost:8080/"
        }
      },
      "execution_count": 18,
      "outputs": [
        {
          "output_type": "stream",
          "name": "stdout",
          "text": [
            "Oringinal set: {1, 2, 3, 4, 5}\n",
            "After removing the element:  {1, 2, 4, 5}\n"
          ]
        }
      ]
    },
    {
      "cell_type": "markdown",
      "source": [
        "4. Check if an element exists in a set."
      ],
      "metadata": {
        "id": "Mgt2vEe4oA0i"
      }
    },
    {
      "cell_type": "code",
      "source": [
        "my_set ={1, 2, 3, 4, 5}\n",
        "\n",
        "element_check =int(input(\"Enter element to check: \"))\n",
        "\n",
        "if element_check in my_set:\n",
        "  print(\"Element exist in set.\")\n",
        "else:\n",
        "  print(\"Element does not exist in set.\")"
      ],
      "metadata": {
        "id": "88cz5EmToO5k",
        "outputId": "380de766-21b7-4d03-ddfd-70d97697078c",
        "colab": {
          "base_uri": "https://localhost:8080/"
        }
      },
      "execution_count": 19,
      "outputs": [
        {
          "output_type": "stream",
          "name": "stdout",
          "text": [
            "Enter element to check: 3\n",
            "Element exist in set.\n"
          ]
        }
      ]
    },
    {
      "cell_type": "markdown",
      "source": [
        "5. Find the length of a set without using the len() function"
      ],
      "metadata": {
        "id": "wJWqKQ1Hpc7t"
      }
    },
    {
      "cell_type": "code",
      "source": [
        "my_set ={1, 2, 3, 4, 5}\n",
        "\n",
        "count = 0\n",
        "\n",
        "for i in my_set:\n",
        "\n",
        "  count +=1\n",
        "\n",
        "print (\"lenth of set\",count)"
      ],
      "metadata": {
        "id": "OGM34IBBs3Xk",
        "outputId": "57a26c05-26b0-4dad-8de9-ae368dfd723e",
        "colab": {
          "base_uri": "https://localhost:8080/"
        }
      },
      "execution_count": 20,
      "outputs": [
        {
          "output_type": "stream",
          "name": "stdout",
          "text": [
            "lenth of set 5\n"
          ]
        }
      ]
    },
    {
      "cell_type": "markdown",
      "source": [
        "6. Clear all elements from a set."
      ],
      "metadata": {
        "id": "a5jCzKLbtsYX"
      }
    },
    {
      "cell_type": "code",
      "source": [
        "my_set ={1, 2, 3, 4, 5}\n",
        "\n",
        "print(\"Original set: \",my_set)\n",
        "\n",
        "my_set.clear()\n",
        "\n",
        "print(\"After clearing the set:\",my_set)\n"
      ],
      "metadata": {
        "id": "V0-L6FpJt0aA",
        "outputId": "83e582fa-c5af-4761-964e-8e9b4e42bf70",
        "colab": {
          "base_uri": "https://localhost:8080/"
        }
      },
      "execution_count": 22,
      "outputs": [
        {
          "output_type": "stream",
          "name": "stdout",
          "text": [
            "Original set:  {1, 2, 3, 4, 5}\n",
            "After clearing the set: set()\n"
          ]
        }
      ]
    },
    {
      "cell_type": "markdown",
      "source": [
        "7. Create a set of even numbers from 1 to 10"
      ],
      "metadata": {
        "id": "n9Dbhu7PunnF"
      }
    },
    {
      "cell_type": "code",
      "source": [
        "even_num = set(i for i in range(2,11,2))\n",
        "\n",
        "print(\"set of even number :\",even_num)"
      ],
      "metadata": {
        "id": "HnbiuVh3uzBb",
        "outputId": "ca7603c0-4e7e-40b9-9992-85f761a5ae2f",
        "colab": {
          "base_uri": "https://localhost:8080/"
        }
      },
      "execution_count": 24,
      "outputs": [
        {
          "output_type": "stream",
          "name": "stdout",
          "text": [
            "set of even number : {2, 4, 6, 8, 10}\n"
          ]
        }
      ]
    },
    {
      "cell_type": "markdown",
      "source": [
        "8. Create a set of odd numbers from 1 to 10"
      ],
      "metadata": {
        "id": "xGk-dSxHvZAp"
      }
    },
    {
      "cell_type": "code",
      "source": [
        "odd_num = set(i for i in range(1,11,2))\n",
        "\n",
        "print(\"set of odd number:\",odd_num)"
      ],
      "metadata": {
        "id": "gp2olayYvb7y",
        "outputId": "56ffbd8b-2c4b-48e2-b334-820a20304b25",
        "colab": {
          "base_uri": "https://localhost:8080/"
        }
      },
      "execution_count": 25,
      "outputs": [
        {
          "output_type": "stream",
          "name": "stdout",
          "text": [
            "set of odd number: {1, 3, 5, 7, 9}\n"
          ]
        }
      ]
    },
    {
      "cell_type": "markdown",
      "source": [
        "9. Find the union of two sets"
      ],
      "metadata": {
        "id": "JZnJG3Uhv5Xw"
      }
    },
    {
      "cell_type": "code",
      "source": [
        "my_set ={1, 2, 3, 4, 5}\n",
        "my_set1 ={1, 7, 3, 9, 5}\n",
        "\n",
        "union_element = my_set.union(my_set1)\n",
        "\n",
        "print(\"set1 :\",my_set)\n",
        "print(\"set2 :\",my_set1)\n",
        "print(\"union of set 1 and set 2: \",union_element)\n"
      ],
      "metadata": {
        "id": "EDZbkJntv7-D",
        "outputId": "f9bf5a97-423c-4a50-dc96-86f1431031c9",
        "colab": {
          "base_uri": "https://localhost:8080/"
        }
      },
      "execution_count": 28,
      "outputs": [
        {
          "output_type": "stream",
          "name": "stdout",
          "text": [
            "set1 : {1, 2, 3, 4, 5}\n",
            "set2 : {1, 3, 5, 7, 9}\n",
            "union of set 1 and set 2:  {1, 2, 3, 4, 5, 7, 9}\n"
          ]
        }
      ]
    },
    {
      "cell_type": "markdown",
      "source": [
        "10. Find the intersection of two sets"
      ],
      "metadata": {
        "id": "dBVMUSf3xUiV"
      }
    },
    {
      "cell_type": "code",
      "source": [
        "my_set ={1, 2, 3, 4, 5}\n",
        "my_set1 ={1, 7, 3, 9, 5}\n",
        "\n",
        "intersection_set = my_set.intersection(my_set1)\n",
        "\n",
        "print(\"Set 1:\", my_set)\n",
        "print(\"Set 2:\", my_set1)\n",
        "print(\"Intersection:\", intersection_set)"
      ],
      "metadata": {
        "id": "OQ65PeADxWYQ",
        "outputId": "aed6a124-f134-4291-dfd5-a7fa509cbe30",
        "colab": {
          "base_uri": "https://localhost:8080/"
        }
      },
      "execution_count": 33,
      "outputs": [
        {
          "output_type": "stream",
          "name": "stdout",
          "text": [
            "Set 1: {1, 2, 3, 4, 5}\n",
            "Set 2: {1, 3, 5, 7, 9}\n",
            "Intersection: {1, 3, 5}\n"
          ]
        }
      ]
    },
    {
      "cell_type": "markdown",
      "source": [
        "11. Find the difference between two sets."
      ],
      "metadata": {
        "id": "7O1mZSqMyHWj"
      }
    },
    {
      "cell_type": "code",
      "source": [
        "my_set ={1, 2, 3, 4, 5}\n",
        "my_set1 ={1, 7, 3, 9, 5}\n",
        "\n",
        "diff_set = my_set.difference(my_set1)\n",
        "\n",
        "print(\"Set 1:\", my_set)\n",
        "print(\"Set 2:\", my_set1)\n",
        "print(\"Difference:\", diff_set)"
      ],
      "metadata": {
        "id": "a_6v-r8pyNTY",
        "outputId": "af17cb4d-79c8-408d-b625-933e0887a131",
        "colab": {
          "base_uri": "https://localhost:8080/"
        }
      },
      "execution_count": 32,
      "outputs": [
        {
          "output_type": "stream",
          "name": "stdout",
          "text": [
            "Set 1: {1, 2, 3, 4, 5}\n",
            "Set 2: {1, 3, 5, 7, 9}\n",
            "Difference: {2, 4}\n"
          ]
        }
      ]
    },
    {
      "cell_type": "markdown",
      "source": [
        "12. Check if a set is a subset of another set."
      ],
      "metadata": {
        "id": "lJ60xE4jzEv5"
      }
    },
    {
      "cell_type": "code",
      "source": [
        "my_set ={ 3, 4, 5}\n",
        "my_set1 ={1,4, 7, 3, 9, 5}\n",
        "\n",
        "subset = my_set.issubset(my_set1)\n",
        "\n",
        "print(\"Is set1 a subset of set2 :\",subset)\n",
        "\n"
      ],
      "metadata": {
        "id": "AHRd0He4zLHL",
        "outputId": "9785f559-578c-483f-d75b-bd9387cd4f84",
        "colab": {
          "base_uri": "https://localhost:8080/"
        }
      },
      "execution_count": 34,
      "outputs": [
        {
          "output_type": "stream",
          "name": "stdout",
          "text": [
            "Is set1 a subset of set2 : True\n"
          ]
        }
      ]
    },
    {
      "cell_type": "markdown",
      "source": [
        "13. Check if a set is a superset of another set."
      ],
      "metadata": {
        "id": "TCmE3YTRz9PB"
      }
    },
    {
      "cell_type": "code",
      "source": [
        "myset  = {1, 2, 3, 4, 5}\n",
        "myset1 = {3,4}\n",
        "\n",
        "superset = myset.issuperset(myset1)\n",
        "\n",
        "if superset:\n",
        "  print(\"set1 is superset of set2\")\n",
        "else:\n",
        "  print(\"set1 is not a superset of set2\")"
      ],
      "metadata": {
        "id": "KhpSIyMI1BmW",
        "outputId": "99302d51-ae61-43de-806a-1220c3d486e7",
        "colab": {
          "base_uri": "https://localhost:8080/"
        }
      },
      "execution_count": 35,
      "outputs": [
        {
          "output_type": "stream",
          "name": "stdout",
          "text": [
            "set1 is superset of set2\n"
          ]
        }
      ]
    },
    {
      "cell_type": "markdown",
      "source": [
        "14. Create a set from a list"
      ],
      "metadata": {
        "id": "hVaWiSBy29kh"
      }
    },
    {
      "cell_type": "code",
      "source": [
        "lst = [2,3,4,5,6,4,3]\n",
        "\n",
        "conv_set = set(lst)\n",
        "\n",
        "print(\"original list :\",lst)\n",
        "print(\"convert lst to set :\",conv_set)"
      ],
      "metadata": {
        "id": "K7M1_dtE3AbD",
        "outputId": "9c1fee85-1321-4819-e300-18dbdd3dbdf9",
        "colab": {
          "base_uri": "https://localhost:8080/"
        }
      },
      "execution_count": 36,
      "outputs": [
        {
          "output_type": "stream",
          "name": "stdout",
          "text": [
            "original list : [2, 3, 4, 5, 6, 4, 3]\n",
            "convert lst to set : {2, 3, 4, 5, 6}\n"
          ]
        }
      ]
    },
    {
      "cell_type": "markdown",
      "source": [
        "15. Convert a set to a list."
      ],
      "metadata": {
        "id": "Jou0T6kH4RSZ"
      }
    },
    {
      "cell_type": "code",
      "source": [
        "myset = {3,1,2,4,5,6,7}\n",
        "\n",
        "conv_lst = list(myset)\n",
        "\n",
        "\n",
        "print(\"Original set :\",myset)\n",
        "print(\"convert set to list :\",conv_lst)"
      ],
      "metadata": {
        "id": "NTLDz4gN4xOT",
        "outputId": "fe360319-60fd-44e1-887c-9682808835b6",
        "colab": {
          "base_uri": "https://localhost:8080/"
        }
      },
      "execution_count": 37,
      "outputs": [
        {
          "output_type": "stream",
          "name": "stdout",
          "text": [
            "Original set : {1, 2, 3, 4, 5, 6, 7}\n",
            "convert set to list : [1, 2, 3, 4, 5, 6, 7]\n"
          ]
        }
      ]
    },
    {
      "cell_type": "markdown",
      "source": [
        "16. Remove a random element from a set."
      ],
      "metadata": {
        "id": "7_c43lQ75dQU"
      }
    },
    {
      "cell_type": "code",
      "source": [
        "import random\n",
        "\n",
        "myset = {1,2,3,4,5,6,7}\n",
        "\n",
        "print(\"Original set :\",myset)\n",
        "\n",
        "random_element = random.choice(list(myset))\n",
        "\n",
        "myset.remove(random_element)\n",
        "\n",
        "print(\"Update set after removing :\",myset)"
      ],
      "metadata": {
        "id": "oHknFyyf5ihg",
        "outputId": "89a1c1d9-6929-4740-db15-76a98d63c57d",
        "colab": {
          "base_uri": "https://localhost:8080/"
        }
      },
      "execution_count": 38,
      "outputs": [
        {
          "output_type": "stream",
          "name": "stdout",
          "text": [
            "Original set : {1, 2, 3, 4, 5, 6, 7}\n",
            "Update set after removing : {1, 2, 3, 5, 6, 7}\n"
          ]
        }
      ]
    },
    {
      "cell_type": "markdown",
      "source": [
        "17. Pop an element from a set."
      ],
      "metadata": {
        "id": "nnKP5fIM8pCR"
      }
    },
    {
      "cell_type": "code",
      "source": [
        "myset = {1,2,3,4,5,6}\n",
        "\n",
        "print(\"Original set :\",myset)\n",
        "\n",
        "popped_element = myset.pop()\n",
        "\n",
        "print(\"Popped element :\",popped_element)\n",
        "\n",
        "print(\"Set after popping :\",myset)"
      ],
      "metadata": {
        "id": "ZO5uWr2A8tba",
        "outputId": "eb4f5a8a-d61a-42c2-a399-7fd12db2191b",
        "colab": {
          "base_uri": "https://localhost:8080/"
        }
      },
      "execution_count": 11,
      "outputs": [
        {
          "output_type": "stream",
          "name": "stdout",
          "text": [
            "Original set : {1, 2, 3, 4, 5, 6}\n",
            "Popped element : 1\n",
            "Set after popping : {2, 3, 4, 5, 6}\n"
          ]
        }
      ]
    },
    {
      "cell_type": "markdown",
      "source": [
        "18. Check if two sets have no elements in common."
      ],
      "metadata": {
        "id": "rC7DdBoWZ1im"
      }
    },
    {
      "cell_type": "code",
      "source": [
        "myset = {1,2,3,4}\n",
        "myset1 = {5,6,7,8}\n",
        "\n",
        "common_element = myset.intersection(myset1)\n",
        "\n",
        "if not common_element:\n",
        "  print(\"The two  sets have no element in common.\")\n",
        "else:\n",
        "  print(\"The two sets have common elements :\",common_element)"
      ],
      "metadata": {
        "id": "8FHtm1BxZ8WJ",
        "outputId": "44e616a3-497e-455b-8406-7728e383bd49",
        "colab": {
          "base_uri": "https://localhost:8080/"
        }
      },
      "execution_count": 10,
      "outputs": [
        {
          "output_type": "stream",
          "name": "stdout",
          "text": [
            "The two  sets have no element in common.\n"
          ]
        }
      ]
    },
    {
      "cell_type": "markdown",
      "source": [
        "19. Find the symmetric difference between two sets."
      ],
      "metadata": {
        "id": "6WitYgbab0kv"
      }
    },
    {
      "cell_type": "code",
      "source": [
        "set1 = {1, 2, 3, 4, 5}\n",
        "set2 = {4, 5, 6, 7, 8}\n",
        "\n",
        "# Calculate the symmetric difference using the ^ operator\n",
        "symmetric_difference = set1 ^ set2\n",
        "\n",
        "# Print the symmetric difference\n",
        "print(\"Symmetric Difference:\", symmetric_difference)"
      ],
      "metadata": {
        "id": "KXXM_9dNb4dV",
        "outputId": "b2212a39-c0f3-49e3-b31a-54c2f5342d1f",
        "colab": {
          "base_uri": "https://localhost:8080/"
        }
      },
      "execution_count": 9,
      "outputs": [
        {
          "output_type": "stream",
          "name": "stdout",
          "text": [
            "Symmetric Difference: {1, 2, 3, 6, 7, 8}\n"
          ]
        }
      ]
    },
    {
      "cell_type": "markdown",
      "source": [
        "20. Update a set with elements from another set."
      ],
      "metadata": {
        "id": "cP8MqRc7cEUq"
      }
    },
    {
      "cell_type": "code",
      "source": [
        "set1 = {2,3,4,5}\n",
        "set2 ={ 5,6,7,8}\n",
        "\n",
        "print(\"set1\",set1)\n",
        "print('set2',set2)\n",
        "\n",
        "set1.update(set2)\n",
        "print(\"update set1 :\",set1)"
      ],
      "metadata": {
        "id": "iy871r-zcG3M",
        "outputId": "9dd41f9b-0539-4be7-e045-12fac6e8440c",
        "colab": {
          "base_uri": "https://localhost:8080/"
        }
      },
      "execution_count": 8,
      "outputs": [
        {
          "output_type": "stream",
          "name": "stdout",
          "text": [
            "set1 {2, 3, 4, 5}\n",
            "set2 {8, 5, 6, 7}\n",
            "update set1 : {2, 3, 4, 5, 6, 7, 8}\n"
          ]
        }
      ]
    },
    {
      "cell_type": "markdown",
      "source": [
        "21. Create a set of the first 5 prime numbers."
      ],
      "metadata": {
        "id": "h0puJJEwdUSD"
      }
    },
    {
      "cell_type": "code",
      "source": [
        "def prime(num):\n",
        "\n",
        "  if num <= 1:\n",
        "    return False\n",
        "  for i in range(2, int(num**0.5) +1):\n",
        "    if num % i == 0:\n",
        "      return False\n",
        "  return True\n",
        "\n",
        "prime_set = set()\n",
        "\n",
        "num = 2\n",
        "\n",
        "while len(prime_set)<5:\n",
        "  if prime (num):\n",
        "    prime_set.add(num)\n",
        "\n",
        "  num += 1\n",
        "\n",
        "print(\"Set of the first 5 prime number :\",prime_set)"
      ],
      "metadata": {
        "id": "eOPc3WGTdYaJ",
        "outputId": "324f18a2-c812-4ca9-99a9-1c453ca06422",
        "colab": {
          "base_uri": "https://localhost:8080/"
        }
      },
      "execution_count": 7,
      "outputs": [
        {
          "output_type": "stream",
          "name": "stdout",
          "text": [
            "Set of the first 5 prime number : {2, 3, 5, 7, 11}\n"
          ]
        }
      ]
    },
    {
      "cell_type": "markdown",
      "source": [
        "22. Check if two sets are identical."
      ],
      "metadata": {
        "id": "t_pG0TSdm92A"
      }
    },
    {
      "cell_type": "code",
      "source": [
        "set1 ={1,2,3,4,5}\n",
        "set2 ={3,2,6,4,2}\n",
        "\n",
        "if set1 == set2:\n",
        "  print(\"The sets are identical.\")\n",
        "else:\n",
        "  print(\"The sets are not identical.\")\n",
        ""
      ],
      "metadata": {
        "id": "Sa4_jZE4nGHX",
        "outputId": "398bc484-e240-4e59-bd1d-2d57b97e2551",
        "colab": {
          "base_uri": "https://localhost:8080/"
        }
      },
      "execution_count": 3,
      "outputs": [
        {
          "output_type": "stream",
          "name": "stdout",
          "text": [
            "The sets are not identical.\n"
          ]
        }
      ]
    },
    {
      "cell_type": "markdown",
      "source": [
        "23. Create a frozen set"
      ],
      "metadata": {
        "id": "RP9mcEVXpLgv"
      }
    },
    {
      "cell_type": "code",
      "source": [
        "element = [1,2,3,4,5,6,7]\n",
        "\n",
        "frozen = frozenset(element)\n",
        "\n",
        "print(\"Frozen set: \", frozen)"
      ],
      "metadata": {
        "id": "6VI3he81pdz0",
        "outputId": "f2d7c044-5e91-4233-84d3-6ded17cf646f",
        "colab": {
          "base_uri": "https://localhost:8080/"
        }
      },
      "execution_count": 6,
      "outputs": [
        {
          "output_type": "stream",
          "name": "stdout",
          "text": [
            "Frozen set:  frozenset({1, 2, 3, 4, 5, 6, 7})\n"
          ]
        }
      ]
    },
    {
      "cell_type": "markdown",
      "source": [
        "24. Check if a set is disjoint with another set."
      ],
      "metadata": {
        "id": "RdTgNBVHq3Sa"
      }
    },
    {
      "cell_type": "code",
      "source": [
        "set1 = {1,2,3,4}\n",
        "set2 = {5,6,7,3,4,9}\n",
        "\n",
        "disjoint_status = set1.isdisjoint(set2)\n",
        "\n",
        "print(\"Are the sets disjoint\",disjoint_status)"
      ],
      "metadata": {
        "id": "Iz9WkuKzq6mb",
        "outputId": "b293d9c8-7d88-44dc-8221-e95380d255dc",
        "colab": {
          "base_uri": "https://localhost:8080/"
        }
      },
      "execution_count": 5,
      "outputs": [
        {
          "output_type": "stream",
          "name": "stdout",
          "text": [
            "Are the sets disjoint False\n"
          ]
        }
      ]
    },
    {
      "cell_type": "markdown",
      "source": [
        "25. Create a set of squares of numbers from 1 to 5."
      ],
      "metadata": {
        "id": "da910flwroFk"
      }
    },
    {
      "cell_type": "code",
      "source": [
        "square_set = set(i**2 for i in range(1,6))\n",
        "print(\"set of square: \",square_set)"
      ],
      "metadata": {
        "id": "fcbmSDFwrvpi",
        "outputId": "bd4cf25e-1851-4d07-fd2a-9cc9d7172269",
        "colab": {
          "base_uri": "https://localhost:8080/"
        }
      },
      "execution_count": 1,
      "outputs": [
        {
          "output_type": "stream",
          "name": "stdout",
          "text": [
            "set of square:  {1, 4, 9, 16, 25}\n"
          ]
        }
      ]
    },
    {
      "cell_type": "markdown",
      "source": [
        "26. Filter out all even numbers from a set."
      ],
      "metadata": {
        "id": "MkAPC-vG7ujG"
      }
    },
    {
      "cell_type": "code",
      "source": [
        "myset = {1,2,3,4,5,66,77}\n",
        "\n",
        "even_num = set(i for i in myset if i % 2 == 0)\n",
        "\n",
        "print(\"Original set: \",myset)\n",
        "print(\"Even number set: \",even_num)"
      ],
      "metadata": {
        "id": "Rs2T9uu08Vhv",
        "outputId": "55ff88e9-3c35-4014-98a5-0f2c55319e8b",
        "colab": {
          "base_uri": "https://localhost:8080/"
        }
      },
      "execution_count": 12,
      "outputs": [
        {
          "output_type": "stream",
          "name": "stdout",
          "text": [
            "Original set:  {1, 2, 3, 4, 5, 66, 77}\n",
            "Even number set:  {2, 4, 66}\n"
          ]
        }
      ]
    },
    {
      "cell_type": "markdown",
      "source": [
        "27. Multiply all elements in a set by 2."
      ],
      "metadata": {
        "id": "Xo24EXqv9hNz"
      }
    },
    {
      "cell_type": "code",
      "source": [
        "myset = {1,2,3,4,5,66,77}\n",
        "\n",
        "multiply_set = set(i ** 2  for i in myset)\n",
        "\n",
        "print(\"multiply set :\",multiply_set)"
      ],
      "metadata": {
        "id": "kgf1jJTj9lhk",
        "outputId": "dfd4364e-435a-4f38-cb3b-776e24eeee17",
        "colab": {
          "base_uri": "https://localhost:8080/"
        }
      },
      "execution_count": 13,
      "outputs": [
        {
          "output_type": "stream",
          "name": "stdout",
          "text": [
            "multiply set : {1, 4, 4356, 9, 5929, 16, 25}\n"
          ]
        }
      ]
    },
    {
      "cell_type": "markdown",
      "source": [
        "28. Create a set of random numbers."
      ],
      "metadata": {
        "id": "EonsFA0f-YL8"
      }
    },
    {
      "cell_type": "code",
      "source": [
        "import random # import random Library\n",
        "\n",
        "num=5\n",
        "\n",
        "random_set = set()\n",
        "\n",
        "for _ in range(num):\n",
        "\n",
        "  random_num = random.randint(1,77)\n",
        "\n",
        "  random_set.add(random_num)\n",
        "print(\"create set of random number: \",random_set)\n",
        "\n"
      ],
      "metadata": {
        "id": "vcAg4UAl-bt5",
        "outputId": "954aebdd-aa4a-4248-9825-8d91a4e62bbb",
        "colab": {
          "base_uri": "https://localhost:8080/"
        }
      },
      "execution_count": 18,
      "outputs": [
        {
          "output_type": "stream",
          "name": "stdout",
          "text": [
            "create set of random number:  {32, 38, 16, 54, 27}\n"
          ]
        }
      ]
    },
    {
      "cell_type": "markdown",
      "source": [
        "30. Create a nested set (hint: use frozenset)."
      ],
      "metadata": {
        "id": "cVjBYZsJCFGE"
      }
    },
    {
      "cell_type": "code",
      "source": [
        "set1 = {1, 2, 3, 4, 5}\n",
        "set2 = {6, 7, 8, 9, 10}\n",
        "\n",
        "# Create frozensets from the inner sets\n",
        "frozen_set1 = frozenset(set1)\n",
        "frozen_set2 = frozenset(set2)\n",
        "\n",
        "# Create the nested set using the frozensets\n",
        "nested_set = {frozen_set1, frozen_set2}\n",
        "\n",
        "print(\"Nested Set:\", nested_set)"
      ],
      "metadata": {
        "id": "kf6c4hXRCJQ7",
        "outputId": "c172cca0-c5d4-4784-dbe4-ca3d405384f8",
        "colab": {
          "base_uri": "https://localhost:8080/"
        }
      },
      "execution_count": 19,
      "outputs": [
        {
          "output_type": "stream",
          "name": "stdout",
          "text": [
            "Nested Set: {frozenset({1, 2, 3, 4, 5}), frozenset({6, 7, 8, 9, 10})}\n"
          ]
        }
      ]
    },
    {
      "cell_type": "markdown",
      "source": [
        "31. Remove an element from a set using the discard method."
      ],
      "metadata": {
        "id": "Tgu2Mno3CYBC"
      }
    },
    {
      "cell_type": "code",
      "source": [
        "myset = {1,2,3,4,5,6}\n",
        "\n",
        "print(\"initial set :\",myset)\n",
        "\n",
        "remove_element = 6\n",
        "\n",
        "# Remove  the element of set using discsrd() function.\n",
        "myset.discard(remove_element)\n",
        "\n",
        "print(\"Set after removing: \",myset)"
      ],
      "metadata": {
        "id": "6DBqHuwbCin2",
        "outputId": "24cfde87-dfe8-418d-d711-687be1ea782b",
        "colab": {
          "base_uri": "https://localhost:8080/"
        }
      },
      "execution_count": 21,
      "outputs": [
        {
          "output_type": "stream",
          "name": "stdout",
          "text": [
            "initial set : {1, 2, 3, 4, 5, 6}\n",
            "Set after removing:  {1, 2, 3, 4, 5}\n"
          ]
        }
      ]
    },
    {
      "cell_type": "markdown",
      "source": [
        "32. Compare two sets."
      ],
      "metadata": {
        "id": "DgWyBAYoDoy8"
      }
    },
    {
      "cell_type": "code",
      "source": [
        "# Define two sets\n",
        "set1 = {1, 2, 3, 4, 5}\n",
        "set2 = {4, 5, 6, 7, 8}\n",
        "\n",
        "# Check if set1 is a subset of set2\n",
        "is_subset = set1.issubset(set2)\n",
        "\n",
        "# Check if set2 is a subset of set1\n",
        "is_superset = set1.issuperset(set2)\n",
        "\n",
        "# Find the intersection of the sets\n",
        "intersection = set1.intersection(set2)\n",
        "\n",
        "# Find the union of the sets\n",
        "union = set1.union(set2)\n",
        "\n",
        "# Find the elements that are in set1 but not in set2\n",
        "difference1 = set1.difference(set2)\n",
        "\n",
        "# Find the elements that are in set2 but not in set1\n",
        "difference2 = set2.difference(set1)\n",
        "\n",
        "print(\"Set 1:\", set1)\n",
        "print(\"Set 2:\", set2)\n",
        "print(\"Is set1 a subset of set2\", is_subset)\n",
        "print(\"Is set2 a subset of set1\", is_superset)\n",
        "print(\"Intersection:\", intersection)\n",
        "print(\"Union:\", union)\n",
        "print(\"Elements in set1 but not in set2:\", difference1)\n",
        "print(\"Elements in set2 but not in set1:\", difference2)"
      ],
      "metadata": {
        "id": "1ilYYoSBDsz2",
        "outputId": "cd53fe99-f5a3-47c5-faba-c94bab909e65",
        "colab": {
          "base_uri": "https://localhost:8080/"
        }
      },
      "execution_count": 22,
      "outputs": [
        {
          "output_type": "stream",
          "name": "stdout",
          "text": [
            "Set 1: {1, 2, 3, 4, 5}\n",
            "Set 2: {4, 5, 6, 7, 8}\n",
            "Is set1 a subset of set2 False\n",
            "Is set2 a subset of set1 False\n",
            "Intersection: {4, 5}\n",
            "Union: {1, 2, 3, 4, 5, 6, 7, 8}\n",
            "Elements in set1 but not in set2: {1, 2, 3}\n",
            "Elements in set2 but not in set1: {8, 6, 7}\n"
          ]
        }
      ]
    },
    {
      "cell_type": "markdown",
      "source": [
        "33. Create a set from a string."
      ],
      "metadata": {
        "id": "NrU-5MN3EI3b"
      }
    },
    {
      "cell_type": "code",
      "source": [
        "string = \"Hello\"\n",
        "\n",
        "# Convert set item string.\n",
        "convert_set = set(string)\n",
        "print(convert_set)"
      ],
      "metadata": {
        "id": "ZaIl3AbZELav",
        "outputId": "4418413d-1bd0-4e59-b79c-fd234962bfbb",
        "colab": {
          "base_uri": "https://localhost:8080/"
        }
      },
      "execution_count": 23,
      "outputs": [
        {
          "output_type": "stream",
          "name": "stdout",
          "text": [
            "{'H', 'o', 'l', 'e'}\n"
          ]
        }
      ]
    },
    {
      "cell_type": "markdown",
      "source": [
        "34. Convert a set of strings to a set of integers."
      ],
      "metadata": {
        "id": "xLqLZ4y6Et7R"
      }
    },
    {
      "cell_type": "code",
      "source": [
        "str_set = {\"12\",\"23\",\"45\",\"43\",\"77\"}\n",
        "\n",
        "int_set = set()\n",
        "\n",
        "# Initialize the set.\n",
        "for i in str_set:\n",
        "\n",
        "   # Convert each element to integer.\n",
        "  int_value = int(i)\n",
        "\n",
        "   # And add in set.\n",
        "  int_set.add(int_value)\n",
        "\n",
        "print(\"Original string set: \",str_set)\n",
        "print(\"Converted integer set: \",int_set)"
      ],
      "metadata": {
        "id": "B46pXR5aEyLO",
        "outputId": "feb4734a-a0b4-4c16-a110-d69d69e317cc",
        "colab": {
          "base_uri": "https://localhost:8080/"
        }
      },
      "execution_count": 26,
      "outputs": [
        {
          "output_type": "stream",
          "name": "stdout",
          "text": [
            "Original string set:  {'23', '12', '45', '77', '43'}\n",
            "Converted integer set:  {43, 12, 77, 45, 23}\n"
          ]
        }
      ]
    },
    {
      "cell_type": "markdown",
      "source": [
        "35. Convert a set of integers to a set of strings."
      ],
      "metadata": {
        "id": "i9duKStxKouC"
      }
    },
    {
      "cell_type": "code",
      "source": [
        "int_set = {43, 12, 77, 45, 23}\n",
        "\n",
        "# Initialize the set.\n",
        "str_set = set()\n",
        "\n",
        "# Iterate through each element in set.\n",
        "for i in int_set:\n",
        "\n",
        "  # Convert each element to string.\n",
        "  str_value = str(i)\n",
        "\n",
        "  # And add in set.\n",
        "  str_set.add(str_value)\n",
        "\n",
        "print(\"Original string set: \",int_set)\n",
        "print(\"Converted integer set: \",str_set)"
      ],
      "metadata": {
        "id": "USkgijJdKr0H",
        "outputId": "f6c6aead-eade-42bf-f66c-d3fee9c0aa4e",
        "colab": {
          "base_uri": "https://localhost:8080/"
        }
      },
      "execution_count": 27,
      "outputs": [
        {
          "output_type": "stream",
          "name": "stdout",
          "text": [
            "Original string set:  {45, 23, 43, 12, 77}\n",
            "Converted integer set:  {'12', '45', '43', '23', '77'}\n"
          ]
        }
      ]
    },
    {
      "cell_type": "markdown",
      "source": [
        "36. Create a set from a tuple."
      ],
      "metadata": {
        "id": "3Mnu2la9Ldsy"
      }
    },
    {
      "cell_type": "code",
      "source": [
        "mytpl = (43, 12, 77, 45, 23)\n",
        "\n",
        "# Convert tuple to  set using set() function.\n",
        "tuple_to_set = set(mytpl)\n",
        "\n",
        "print(tuple_to_set)\n"
      ],
      "metadata": {
        "id": "pJyLniBBLhrY",
        "outputId": "b62ef71f-3683-4a77-e4be-b0efd2413d28",
        "colab": {
          "base_uri": "https://localhost:8080/"
        }
      },
      "execution_count": 28,
      "outputs": [
        {
          "output_type": "stream",
          "name": "stdout",
          "text": [
            "{43, 12, 45, 77, 23}\n"
          ]
        }
      ]
    },
    {
      "cell_type": "markdown",
      "source": [
        "37. Convert a set to a tuple."
      ],
      "metadata": {
        "id": "jL6O4bxtQgMe"
      }
    },
    {
      "cell_type": "code",
      "source": [
        "myset= {43, 12, 77, 45, 23}\n",
        "\n",
        "# Convert set to tuple using tuple() function.\n",
        "conv_tpl = tuple(myset)\n",
        "\n",
        "print(conv_tpl)"
      ],
      "metadata": {
        "id": "22wKFWMNQrX-",
        "outputId": "09a07892-382a-47a0-bcb5-a512b03eb37e",
        "colab": {
          "base_uri": "https://localhost:8080/"
        }
      },
      "execution_count": 29,
      "outputs": [
        {
          "output_type": "stream",
          "name": "stdout",
          "text": [
            "(45, 23, 43, 12, 77)\n"
          ]
        }
      ]
    },
    {
      "cell_type": "markdown",
      "source": [
        "38. Find the maximum value in a set."
      ],
      "metadata": {
        "id": "7GhBgpDvQ8R6"
      }
    },
    {
      "cell_type": "code",
      "source": [
        "myset = {43, 12, 77, 45, 23}\n",
        "\n",
        "max_value = None\n",
        "\n",
        "for num in myset:\n",
        "    # Check if max_value is None (first iteration) or if the current number is greater than max_value\n",
        "  if max_value is None or num >max_value:\n",
        "    max_value = num\n",
        "\n",
        "print(\"Maximum value: \",max_value)\n"
      ],
      "metadata": {
        "id": "L4VGjfYaQ51c",
        "outputId": "57254c4c-106d-4c25-8885-dfa88e05806e",
        "colab": {
          "base_uri": "https://localhost:8080/"
        }
      },
      "execution_count": 30,
      "outputs": [
        {
          "output_type": "stream",
          "name": "stdout",
          "text": [
            "Maximum value:  77\n"
          ]
        }
      ]
    },
    {
      "cell_type": "markdown",
      "source": [
        "39. Find the minimum value in a set."
      ],
      "metadata": {
        "id": "NIoxv7BYTCFY"
      }
    },
    {
      "cell_type": "code",
      "source": [
        "myset = {43, 12, 77, 45, 23}\n",
        "\n",
        "min_value = None\n",
        "\n",
        "for num in myset:\n",
        "    # Check if min_value is None (first iteration) or if num is smaller than the current min_value\n",
        "  if min_value is None or num <min_value:\n",
        "    min_value = num\n",
        "\n",
        "print(\"Maximum value: \",min_value)\n"
      ],
      "metadata": {
        "id": "owuX9VyoTHoZ",
        "outputId": "6c2e5ca4-ec0d-49ce-ea35-23ee9024940b",
        "colab": {
          "base_uri": "https://localhost:8080/"
        }
      },
      "execution_count": 31,
      "outputs": [
        {
          "output_type": "stream",
          "name": "stdout",
          "text": [
            "Maximum value:  12\n"
          ]
        }
      ]
    },
    {
      "cell_type": "markdown",
      "source": [
        "40. Create a set from user input."
      ],
      "metadata": {
        "id": "OvavcOqpTfPO"
      }
    },
    {
      "cell_type": "code",
      "source": [
        "# Initialize an empty set\n",
        "user_set = set()\n",
        "\n",
        "#  Get input from the user\n",
        "print(\"Enter elements for the set (type 'done' to finish):\")\n",
        "while True:\n",
        "    user_input = input(\"> \")  # Get input from the user\n",
        "\n",
        "    if user_input.lower() == 'done':\n",
        "        break  # Exit the loop if the user enters 'done'\n",
        "\n",
        "    # Add the user input to the set\n",
        "    user_set.add(user_input)\n",
        "\n",
        "# Display the final set created from user input\n",
        "print(\"Final set:\", user_set)"
      ],
      "metadata": {
        "id": "-ciunauFTjWY",
        "outputId": "ff698294-4544-4cd0-8a32-7f3ad1641898",
        "colab": {
          "base_uri": "https://localhost:8080/"
        }
      },
      "execution_count": 32,
      "outputs": [
        {
          "output_type": "stream",
          "name": "stdout",
          "text": [
            "Enter elements for the set (type 'done' to finish):\n",
            "> hii myself  PRK\n",
            "> done\n",
            "Final set: {'hii myself  PRK'}\n"
          ]
        }
      ]
    },
    {
      "cell_type": "markdown",
      "source": [
        "41. Check if the intersection of two sets is empty."
      ],
      "metadata": {
        "id": "y7Na8EGIUQcV"
      }
    },
    {
      "cell_type": "code",
      "source": [
        "set1 = {1, 2, 3, 4, 5}\n",
        "set2 = {4, 5, 6, 7, 8}\n",
        "\n",
        "# Find the intersection of the two sets using the `intersection()` method\n",
        "intersection_result = set1.intersection(set2)\n",
        "\n",
        "#Check if the intersection result is empty\n",
        "if not intersection_result:\n",
        "    print(\"The intersection of the two sets is empty.\")\n",
        "else:\n",
        "    print(\"The intersection of the two sets is not empty.\")"
      ],
      "metadata": {
        "id": "TONpve6-UXTl",
        "outputId": "eaef48a9-00fc-4d7b-a702-36140aec0bc8",
        "colab": {
          "base_uri": "https://localhost:8080/"
        }
      },
      "execution_count": 33,
      "outputs": [
        {
          "output_type": "stream",
          "name": "stdout",
          "text": [
            "The intersection of the two sets is not empty.\n"
          ]
        }
      ]
    },
    {
      "cell_type": "markdown",
      "source": [
        "42. Create a set of the first 5 Fibonacci numbers."
      ],
      "metadata": {
        "id": "2A_nsHp1UuS9"
      }
    },
    {
      "cell_type": "code",
      "source": [
        "fibonacci_set = set()\n",
        "\n",
        "# Initialize the first two Fibonacci numbers\n",
        "a, b = 0, 1\n",
        "\n",
        "# Loop to generate the first 5 Fibonacci numbers\n",
        "for _ in range(6):\n",
        "    fibonacci_set.add(a)\n",
        "\n",
        "    # Calculate the next Fibonacci number\n",
        "    a, b = b, a + b\n",
        "\n",
        "print(\"Set of the first 5 Fibonacci numbers:\", fibonacci_set)"
      ],
      "metadata": {
        "id": "CfS1z0cPU3ti",
        "outputId": "ca2dd946-f18b-4393-bdea-6101474c7e7f",
        "colab": {
          "base_uri": "https://localhost:8080/"
        }
      },
      "execution_count": 34,
      "outputs": [
        {
          "output_type": "stream",
          "name": "stdout",
          "text": [
            "Set of the first 5 Fibonacci numbers: {0, 1, 2, 3, 5}\n"
          ]
        }
      ]
    },
    {
      "cell_type": "markdown",
      "source": [
        "43. Remove duplicates from a list using sets."
      ],
      "metadata": {
        "id": "wX6cieH_VG8l"
      }
    },
    {
      "cell_type": "code",
      "source": [
        "lst = [2, 4, 6, 8, 4, 10, 6, 12, 14, 8]\n",
        "\n",
        "# Convert the list to a set\n",
        "unique_set = set(lst)\n",
        "\n",
        "# Convert the set back to a list\n",
        "unique_list = list(lst)\n",
        "\n",
        "# Print the original list and the list with duplicates removed\n",
        "print(\"Original List:\", lst)\n",
        "print(\"List with Duplicates Removed:\", unique_list)"
      ],
      "metadata": {
        "id": "0mFsQ4BZVLQ8",
        "outputId": "572f16d6-b6ec-49b2-b2ef-6970ef2c1379",
        "colab": {
          "base_uri": "https://localhost:8080/"
        }
      },
      "execution_count": 35,
      "outputs": [
        {
          "output_type": "stream",
          "name": "stdout",
          "text": [
            "Original List: [2, 4, 6, 8, 4, 10, 6, 12, 14, 8]\n",
            "List with Duplicates Removed: [2, 4, 6, 8, 4, 10, 6, 12, 14, 8]\n"
          ]
        }
      ]
    },
    {
      "cell_type": "markdown",
      "source": [
        "44. Check if two sets have the same elements, regardless of their count."
      ],
      "metadata": {
        "id": "qo0SptE4VwQO"
      }
    },
    {
      "cell_type": "code",
      "source": [
        "def have_same_elements(set1, set2):\n",
        "    # Convert the sets to lists and sort them\n",
        "    sorted_list1 = sorted(list(set1))\n",
        "    sorted_list2 = sorted(list(set2))\n",
        "\n",
        "    # Compare the sorted lists to check if they are equal\n",
        "    return sorted_list1 == sorted_list2\n",
        "\n",
        "# Example sets\n",
        "set1 = {1, 2, 3, 2, 1}\n",
        "set2 = {3, 1, 2}\n",
        "\n",
        "# Check if the sets have the same elements\n",
        "result = have_same_elements(set1, set2)\n",
        "\n",
        "# Print the result\n",
        "if result:\n",
        "    print(\"The sets have the same elements.\")\n",
        "else:\n",
        "    print(\"The sets do not have the same elements.\")"
      ],
      "metadata": {
        "id": "MAFH4JzfV7MI",
        "outputId": "45f3296c-f7fc-43d4-9421-7e264137e43c",
        "colab": {
          "base_uri": "https://localhost:8080/"
        }
      },
      "execution_count": 36,
      "outputs": [
        {
          "output_type": "stream",
          "name": "stdout",
          "text": [
            "The sets have the same elements.\n"
          ]
        }
      ]
    },
    {
      "cell_type": "markdown",
      "source": [
        "45. Create a set of the first n powers of 2"
      ],
      "metadata": {
        "id": "WAsriTK5WAPY"
      }
    },
    {
      "cell_type": "code",
      "source": [
        "def generate_powers_of_2(n):\n",
        "    # Initialize an empty set to store the powers of 2\n",
        "    powers_of_2 = set()\n",
        "\n",
        "    # Loop from 0 to n-1\n",
        "    for i in range(n):\n",
        "        # Calculate the current power of 2 using the exponentiation operator **\n",
        "        power = 2 ** i\n",
        "\n",
        "        # Add the current power of 2 to the set\n",
        "        powers_of_2.add(power)\n",
        "\n",
        "    # Return the set of powers of 2\n",
        "    return powers_of_2\n",
        "\n",
        "# Define the value of n\n",
        "n = 5\n",
        "\n",
        "# Call the function to generate the set of powers of 2\n",
        "powers_set = generate_powers_of_2(n)\n",
        "\n",
        "# Print the resulting set\n",
        "print(powers_set)"
      ],
      "metadata": {
        "id": "266X7tzNWF9O",
        "outputId": "49a4780b-4556-4dd7-8049-2d0d40f25a15",
        "colab": {
          "base_uri": "https://localhost:8080/"
        }
      },
      "execution_count": 37,
      "outputs": [
        {
          "output_type": "stream",
          "name": "stdout",
          "text": [
            "{1, 2, 4, 8, 16}\n"
          ]
        }
      ]
    },
    {
      "cell_type": "markdown",
      "source": [
        "46. Find the common elements between a set and a list."
      ],
      "metadata": {
        "id": "KP2uLoCDW9No"
      }
    },
    {
      "cell_type": "code",
      "source": [
        "# Define a set and a list\n",
        "my_set = {3, 7, 9, 12, 15}\n",
        "my_list = [7, 12, 5, 9]\n",
        "\n",
        "# Convert the list to a set for efficient comparison\n",
        "list_to_set = set(my_list)\n",
        "\n",
        "# Initialize an empty list to store common elements\n",
        "common_elements = []\n",
        "\n",
        "# Iterate through the elements in the set\n",
        "for element in my_set:\n",
        "    # Check if the element is present in the converted set (list_to_set)\n",
        "    if element in list_to_set:\n",
        "        # If the element is present in both the set and the list, add it to the common_elements list\n",
        "        common_elements.append(element)\n",
        "\n",
        "# Print the common elements\n",
        "print(\"Common elements:\", common_elements)"
      ],
      "metadata": {
        "id": "RbgompifW80S",
        "outputId": "37c59ec6-c1a1-4395-a433-bd9e79ca0561",
        "colab": {
          "base_uri": "https://localhost:8080/"
        }
      },
      "execution_count": 38,
      "outputs": [
        {
          "output_type": "stream",
          "name": "stdout",
          "text": [
            "Common elements: [7, 9, 12]\n"
          ]
        }
      ]
    },
    {
      "cell_type": "markdown",
      "source": [
        "48. Check if a set contains another set as a subset."
      ],
      "metadata": {
        "id": "krp9-LhcX667"
      }
    },
    {
      "cell_type": "code",
      "source": [
        "set1 = {1, 2, 3, 4, 5}\n",
        "set2 = {3, 4}\n",
        "\n",
        "# Check if set2 is a subset of set1\n",
        "is_subset = set2.issubset(set1)\n",
        "\n",
        "if is_subset:\n",
        "    print(\"set2 is a subset of set1\")\n",
        "else:\n",
        "    print(\"set2 is not a subset of set1\")"
      ],
      "metadata": {
        "id": "P73GUHJ9YLYF"
      },
      "execution_count": null,
      "outputs": []
    },
    {
      "cell_type": "markdown",
      "source": [
        "49. Create a set of alternating 1s and 0s of length n."
      ],
      "metadata": {
        "id": "P5wLWAizYSxx"
      }
    },
    {
      "cell_type": "code",
      "source": [
        "def create_alternating_set(n):\n",
        "    alternating_set = set()\n",
        "\n",
        "    # Loop to generate alternating 1s and 0s.\n",
        "    for i in range(n):\n",
        "        # Alternate between adding 1 and 0 to the set based on whether i is even or odd.\n",
        "        if i % 2 == 0:\n",
        "            alternating_set.add(1)\n",
        "        else:\n",
        "            alternating_set.add(0)\n",
        "\n",
        "    return alternating_set\n",
        "\n",
        "# Define the desired length of the alternating set.\n",
        "length_n = 10\n",
        "\n",
        "# Call the function to create the alternating set of length 'length_n'.\n",
        "result = create_alternating_set(length_n)\n",
        "\n",
        "print(result)"
      ],
      "metadata": {
        "id": "_YuVDgUxYdZp",
        "outputId": "a9b74b06-3b14-4034-dc87-f6c4e9f0370c",
        "colab": {
          "base_uri": "https://localhost:8080/"
        }
      },
      "execution_count": 39,
      "outputs": [
        {
          "output_type": "stream",
          "name": "stdout",
          "text": [
            "{0, 1}\n"
          ]
        }
      ]
    },
    {
      "cell_type": "markdown",
      "source": [
        "50. Merge multiple sets into one."
      ],
      "metadata": {
        "id": "2Mu34QhrY7dI"
      }
    },
    {
      "cell_type": "code",
      "source": [
        "set1 = {1, 2, 3}\n",
        "set2 = {3, 4, 5}\n",
        "set3 = {5, 6, 7}\n",
        "\n",
        "# Use the union() method to merge sets\n",
        "merged_set = set1.union(set2, set3)\n",
        "\n",
        "print(\"Merged Set:\", merged_set)"
      ],
      "metadata": {
        "id": "YGf7azIeZDbK",
        "outputId": "ec2642b1-06eb-471a-bc91-22cb1b2d2341",
        "colab": {
          "base_uri": "https://localhost:8080/"
        }
      },
      "execution_count": 40,
      "outputs": [
        {
          "output_type": "stream",
          "name": "stdout",
          "text": [
            "Merged Set: {1, 2, 3, 4, 5, 6, 7}\n"
          ]
        }
      ]
    }
  ]
}